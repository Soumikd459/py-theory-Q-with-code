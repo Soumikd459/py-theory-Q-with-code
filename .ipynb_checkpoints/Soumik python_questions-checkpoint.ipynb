{
 "cells": [
  {
   "cell_type": "code",
   "execution_count": 8,
   "metadata": {},
   "outputs": [
    {
     "name": "stdout",
     "output_type": "stream",
     "text": [
      "['False', 'None', 'True', 'and', 'as', 'assert', 'async', 'await', 'break', 'class', 'continue', 'def', 'del', 'elif', 'else', 'except', 'finally', 'for', 'from', 'global', 'if', 'import', 'in', 'is', 'lambda', 'nonlocal', 'not', 'or', 'pass', 'raise', 'return', 'try', 'while', 'with', 'yield']\n"
     ]
    }
   ],
   "source": [
    "import keyword\n",
    "print(keyword.kwlist)"
   ]
  },
  {
   "cell_type": "code",
   "execution_count": null,
   "metadata": {},
   "outputs": [],
   "source": []
  },
  {
   "cell_type": "code",
   "execution_count": null,
   "metadata": {},
   "outputs": [],
   "source": []
  },
  {
   "cell_type": "code",
   "execution_count": null,
   "metadata": {},
   "outputs": [],
   "source": []
  },
  {
   "cell_type": "code",
   "execution_count": null,
   "metadata": {},
   "outputs": [],
   "source": []
  },
  {
   "cell_type": "code",
   "execution_count": null,
   "metadata": {},
   "outputs": [],
   "source": []
  },
  {
   "cell_type": "markdown",
   "metadata": {},
   "source": [
    "# @Decorator\n",
    "Python decorators are a powerful and versatile tool that allow you to modify the behavior of functions and methods. They are a way to extend the functionality of a function or method without modifying its source code.\n",
    "\n",
    "A decorator is a function that takes another function as an argument and returns a new function that modifies the behavior of the original function. The new function is often referred to as a \"decorated\" function. The basic syntax for using a decorator is the following:"
   ]
  },
  {
   "cell_type": "code",
   "execution_count": null,
   "metadata": {},
   "outputs": [],
   "source": [
    "@decorator_function\n",
    "def my_function():\n",
    "    pass\n",
    "\n",
    "#The @decorator_function notation is just a shorthand for the following code:\n",
    "\n",
    "def my_function():\n",
    "    pass\n",
    "my_function = decorator_function(my_function)\n",
    "\n",
    "#Decorators are often used to add functionality to functions and methods, such as logging, memoization, and access control."
   ]
  },
  {
   "cell_type": "markdown",
   "metadata": {},
   "source": [
    "# Generator  (on the Fly)\n",
    "  create an iterable sequence of values. \n",
    "  A generator function returns a generator object,gen obj generate the values one-by-one as you iterate over it. \n",
    "  Generators are a powerful tool for working with large or complex data sets, as they generate the values on-the-fly, rather than create and store the entire sequence in memory.\n",
    " \n",
    " The yield statement returns a value from the generator and suspends the execution of the function until the next value is requested.The next() function is used to request the next value from the generator, and the generator resumes its execution until it encounters another yield statement or until it reaches the end of the function.\n",
    " \n",
    "  Benefit = allow you to generate the values on-the-fly, rather than having to create and store the entire sequence in memory.\n",
    "            They are lazy, which means that the values are generated only when they are requested. This allows you to generate the values in a more efficient and memory-friendly manner, as you don't have to generate all the values up front."
   ]
  },
  {
   "cell_type": "code",
   "execution_count": 13,
   "metadata": {},
   "outputs": [
    {
     "name": "stdout",
     "output_type": "stream",
     "text": [
      "anil\n",
      "sunil\n"
     ]
    }
   ],
   "source": [
    "l = ('anil','sunil','sandy','maya','sagar','sai')\n",
    "def gen(l):\n",
    "    for i in (l):\n",
    "        yield i\n",
    "g = gen(l)\n",
    "print(next(g))\n",
    "print(next(g))\n",
    "\n",
    "# for i in range(l)  substitute by    for i in l \n",
    "# to iterate over a list or tuple range () is not appropreate,  you hv to iterate direct over list / tuple"
   ]
  },
  {
   "cell_type": "code",
   "execution_count": 14,
   "metadata": {},
   "outputs": [
    {
     "name": "stdout",
     "output_type": "stream",
     "text": [
      "5\n",
      "maya\n",
      "5\n",
      "sai\n",
      "5\n",
      "sandy\n",
      "5\n",
      "sagar\n",
      "5\n",
      "sunil\n",
      "5\n",
      "anil\n"
     ]
    }
   ],
   "source": [
    "#generator\n",
    "\n",
    "# l = ['anil','sunil','sandy','maya','sagar','sai'] #--- list\n",
    "# l = ('anil','sunil','sandy','maya','sagar','sai') #--- tuple\n",
    "l = {'anil','sunil','sandy','maya','sagar','sai'} #--- set\n",
    "def gen(l):\n",
    "    for i in l:\n",
    "        print(5)\n",
    "        yield i  #When the generator function is called and reaches this line, it yields the current value of l \n",
    "'''After yielding the value, the execution of the function is temporarily suspended, and the state of the function is saved.\n",
    "When the function is called again, it resumes execution from this point onwards, remembering the state it was in before yielding.'''\n",
    "        \n",
    "        \n",
    "g = gen(l)\n",
    "print(next(g))\n",
    "print(next(g))\n",
    "print(g.__next__())          #print(next(a)) == print(g.__next__())   same\n",
    "print(next(g))\n",
    "print(next(g))\n",
    "print(next(g))\n",
    "#print(next(g))\n"
   ]
  },
  {
   "cell_type": "code",
   "execution_count": 2,
   "metadata": {},
   "outputs": [
    {
     "name": "stdout",
     "output_type": "stream",
     "text": [
      "anil\n"
     ]
    }
   ],
   "source": [
    "l = ('anil','sunil','sandy','maya','sagar','sai')\n",
    "def gen(l):\n",
    "    for i in l:\n",
    "        yield i\n",
    "g=gen(l)\n",
    "print(next(g))\n",
    "    "
   ]
  },
  {
   "cell_type": "markdown",
   "metadata": {},
   "source": [
    "# Fibonacci_generator"
   ]
  },
  {
   "cell_type": "code",
   "execution_count": 2,
   "metadata": {},
   "outputs": [
    {
     "name": "stdout",
     "output_type": "stream",
     "text": [
      "0\n",
      "1\n",
      "1\n",
      "2\n",
      "3\n"
     ]
    }
   ],
   "source": [
    "def fibonacci_no():\n",
    "    a,b = 0,1\n",
    "    while True:  #( syntax of while : while condition, here condition is true,, )\n",
    "        yield a   # we terminate the process after getting 1st fib no.\n",
    "        a,b = b,a+b   # then update the both the nos.\n",
    "    \n",
    "fib = fibonacci_no()\n",
    "for i in range(5):\n",
    "    print(next(fib))\n",
    "        "
   ]
  },
  {
   "cell_type": "code",
   "execution_count": 37,
   "metadata": {},
   "outputs": [
    {
     "name": "stdout",
     "output_type": "stream",
     "text": [
      "0\n",
      "1\n",
      "1\n",
      "2\n",
      "3\n",
      "5\n",
      "8\n",
      "13\n",
      "21\n",
      "34\n"
     ]
    },
    {
     "data": {
      "text/plain": [
       "'Line 5: yield a\\n\\nThis line is the heart of the generator function. It uses the yield keyword to produce a value (a) to the caller of the generator.\\nWhen the generator function is called and reaches this line, it yields the current value of a (which corresponds to the current Fibonacci number) to the caller.\\nAfter yielding the value, the execution of the function is temporarily suspended, and the state of the function is saved. When the function is called again, it resumes execution from this point onwards, remembering the state it was in before yielding.\\nThis allows the generator to \"remember\" its position in the Fibonacci sequence and continue generating Fibonacci numbers efficiently on demand without having to store the entire sequence in memory.'"
      ]
     },
     "execution_count": 37,
     "metadata": {},
     "output_type": "execute_result"
    }
   ],
   "source": [
    "def fibonacci_generator():\n",
    "    a, b = 0, 1\n",
    "    while True:\n",
    "        yield a  # Yield the current Fibonacci number  (yield = produce)\n",
    "        a, b = b, a + b  # Calculate the next Fibonacci number\n",
    "\n",
    "# Create a generator object\n",
    "fib_gen = fibonacci_generator()\n",
    "\n",
    "# Print the first 10 Fibonacci numbers\n",
    "for i in range(10):\n",
    "    print(next(fib_gen))\n",
    "\n",
    "'''Line 5: yield a\n",
    "\n",
    "This line is the heart of the generator function. It uses the yield keyword to produce a value (a) to the caller of the generator.\n",
    "When the generator function is called and reaches this line, it yields the current value of a (which corresponds to the current Fibonacci number) to the caller.\n",
    "After yielding the value, the execution of the function is temporarily suspended, and the state of the function is saved. When the function is called again, it resumes execution from this point onwards, remembering the state it was in before yielding.\n",
    "This allows the generator to \"remember\" its position in the Fibonacci sequence and continue generating Fibonacci numbers efficiently on demand without having to store the entire sequence in memory.'''   \n"
   ]
  },
  {
   "cell_type": "code",
   "execution_count": 40,
   "metadata": {},
   "outputs": [
    {
     "name": "stdout",
     "output_type": "stream",
     "text": [
      "<class 'list'>\n",
      "1\n",
      "2\n"
     ]
    }
   ],
   "source": [
    "#iterator\n",
    "\n",
    "# l = ['anil','sunil','sandy','maya','sagar','sai'] #--- list\n",
    "# l = ('anil','sunil','sandy','maya','sagar','sai') #--- tuple\n",
    "l = [1,2,3,4,5,'anil','sunil','sandy','maya','sagar','sai'] #--- set\n",
    "print(type(l))\n",
    "a = iter(l)\n",
    "print(next(a))\n",
    "print(next(a))\n",
    "# print(next(a))\n"
   ]
  },
  {
   "cell_type": "code",
   "execution_count": 9,
   "metadata": {},
   "outputs": [
    {
     "name": "stdout",
     "output_type": "stream",
     "text": [
      "Normal Way:  16\n",
      "Lambda:  16\n"
     ]
    }
   ],
   "source": [
    "# lambda function \n",
    "\n",
    "# normal function to calculate squre\n",
    "def sqr(a):\n",
    "    return a*a\n",
    "\n",
    "a = 4\n",
    "print(\"Normal Way: \",sqr(a))\n",
    "\n",
    "# with the help of lambda function\n",
    "sqr = lambda a:a*a\n",
    "print(\"Lambda: \",sqr(a))"
   ]
  },
  {
   "cell_type": "code",
   "execution_count": 9,
   "metadata": {},
   "outputs": [
    {
     "name": "stdout",
     "output_type": "stream",
     "text": [
      "9\n"
     ]
    }
   ],
   "source": [
    "x = lambda a: a * a\n",
    "a = 3\n",
    "result = x(a)\n",
    "print(result)  #in lambda func return not used\n"
   ]
  },
  {
   "cell_type": "code",
   "execution_count": 46,
   "metadata": {},
   "outputs": [
    {
     "name": "stdout",
     "output_type": "stream",
     "text": [
      "27\n"
     ]
    }
   ],
   "source": [
    "cube = lambda x: x ** 3     #lambda arguments: expression\n",
    "\n",
    "result = cube(3)            # lambda x: x * 2          [single arg]\n",
    "print(result)               #lambda x, y: x + y        [multiple arguments]\n",
    "                            #lambda: \"Hello, World!\"   [ no arguments]\n"
   ]
  },
  {
   "cell_type": "markdown",
   "metadata": {},
   "source": [
    "# Inputs are automatically saved as strings. Therefore, always convert to integers before doing any math operators like addition / subtraction."
   ]
  },
  {
   "cell_type": "code",
   "execution_count": 7,
   "metadata": {},
   "outputs": [
    {
     "name": "stdout",
     "output_type": "stream",
     "text": [
      "Enter the first number: 5\n",
      "Enter the second number: 7\n",
      "12\n"
     ]
    }
   ],
   "source": [
    "# num1 = input(int(3))\n",
    "# num2 = input(int(3))    [WRONG]   \n",
    "# print('num1' + 'num2')\n",
    "\n",
    "num1 = int(input(\"Enter the first number: \"))  # Take input as an integer\n",
    "num2 = int(input(\"Enter the second number: \"))  # Take input as an integer\n",
    "\n",
    "# Add the numbers and print the result\n",
    "#print(\"Sum of\", num1, \"and\", num2, \"is:\", num1 + num2)\n",
    "print(num1 + num2)\n"
   ]
  },
  {
   "cell_type": "code",
   "execution_count": null,
   "metadata": {},
   "outputs": [],
   "source": []
  },
  {
   "cell_type": "code",
   "execution_count": null,
   "metadata": {},
   "outputs": [],
   "source": []
  },
  {
   "cell_type": "code",
   "execution_count": 1,
   "metadata": {},
   "outputs": [
    {
     "name": "stdout",
     "output_type": "stream",
     "text": [
      "This is monkey function\n",
      "===========eg2=======\n",
      "sub: -1\n"
     ]
    }
   ],
   "source": [
    "# Monkey patching\n",
    "class A:\n",
    "    def info(self):\n",
    "        print('class a info() called')\n",
    "\n",
    "def monkey_fun(self):\n",
    "    print(\"This is monkey function\")\n",
    "\n",
    "# replacing address\n",
    "A.info = monkey_fun\n",
    "obj = A()\n",
    "obj.info()\n",
    "\n",
    "print('===========eg2=======')\n",
    "class Cal:\n",
    "    def __init__(self,a,b):\n",
    "        self.a = a\n",
    "        self.b = b\n",
    "        \n",
    "    def add(self):\n",
    "        print('add:', self.a+self.b)\n",
    "\n",
    "def sub(self):\n",
    "    print('sub:', self.a-self.b)\n",
    "    \n",
    "Cal.add = sub\n",
    "\n",
    "obj = Cal(4,5)\n",
    "obj.add()"
   ]
  },
  {
   "cell_type": "code",
   "execution_count": 6,
   "metadata": {},
   "outputs": [
    {
     "name": "stdout",
     "output_type": "stream",
     "text": [
      "Not start with digits\n",
      "Start with letter\n",
      "['22']\n",
      "Ends with:  <re.Match object; span=(18, 22), match='.com'>\n",
      "Ends with:  <re.Match object; span=(21, 22), match='m'>\n"
     ]
    }
   ],
   "source": [
    "# RegEx \n",
    "import re\n",
    "\n",
    "\"\"\"\n",
    "^  - check start with\n",
    "$  - check ends with\n",
    "*  - zero or more\n",
    "+  - one or more occurences\n",
    "?  - zero or one occurence\n",
    "{} - exactly the specified no. of occurrences\n",
    "|  - either or\n",
    "() - group\n",
    "\n",
    "\\d - digits\n",
    "\\D - letters\n",
    "\"\"\"\n",
    "\n",
    "\n",
    "str = \"mohiteanil22@gmail.com\"\n",
    "# eg.1\n",
    "r = re.search('^\\d',str)\n",
    "if r:\n",
    "    print('Start with digits')\n",
    "else:\n",
    "    print('Not start with digits')\n",
    "\n",
    "# eg.2\n",
    "r = re.search('^\\D',str)\n",
    "if r:\n",
    "    print('Start with letter')\n",
    "else:\n",
    "    print('Not start with letter')\n",
    "\n",
    "# eg.3\n",
    "r = re.findall('\\d[2]',str)\n",
    "print(r)\n",
    "\n",
    "# eg.4\n",
    "r = re.search('.com$',str)\n",
    "print(\"Ends with: \", r)\n",
    "\n",
    "# eg.5\n",
    "r = re.search('(c|m)$',str)\n",
    "print(\"Ends with: \", r)\n",
    "\n"
   ]
  },
  {
   "cell_type": "code",
   "execution_count": 7,
   "metadata": {},
   "outputs": [
    {
     "name": "stdout",
     "output_type": "stream",
     "text": [
      "allEmails:  ['sales@indiamart.com', 'customercare@indiamart.com']\n",
      "allPhones:  ['+91-9696969696']\n"
     ]
    }
   ],
   "source": [
    "# scrap data from website using re\n",
    "\n",
    "import urllib.request\n",
    "import re\n",
    "\n",
    "request_url = urllib.request.urlopen('https://corporate.indiamart.com/branch-offices/')\n",
    "data = request_url.read()\n",
    "data = data.decode()\n",
    "allEmails = re.findall('[a-zA-Z0-9._%+-]+@[a-zA-Z0-9._%+-]+\\.[a-zA-Z]{2,}',data)\n",
    "print('allEmails: ',list(set(allEmails)))\n",
    "\n",
    "allPhones = re.findall('\\+91-\\d{10,}',data)\n",
    "print('allPhones: ',list(set(allPhones)))\n"
   ]
  },
  {
   "cell_type": "code",
   "execution_count": 11,
   "metadata": {},
   "outputs": [
    {
     "name": "stdout",
     "output_type": "stream",
     "text": [
      "1 2 3 "
     ]
    }
   ],
   "source": [
    "#array \n",
    "import array\n",
    "\n",
    "arr = array.array('i',[1,2,3,])\n",
    "for j in arr:\n",
    "    print(j,end=\" \")\n"
   ]
  },
  {
   "cell_type": "code",
   "execution_count": null,
   "metadata": {},
   "outputs": [],
   "source": [
    "\"\"\"\n",
    "---Types of Methods in Python---\n",
    "There are basically three types of methods in Python:\n",
    "\n",
    "1.Instance Method : The purpose of instance methods is to set or get details about instances (objects).\n",
    "\n",
    "2.Class Method : The purpose of the class methods is to set or get the details (status) of the class. define a class method: @classmethod decorator\n",
    "\n",
    "3.Static Method : Static methods cannot access the class data. They are self-sufficient and can work on their own\n",
    "\n",
    "\"\"\"\n"
   ]
  },
  {
   "cell_type": "markdown",
   "metadata": {},
   "source": [
    "# Class Variables(Defined @ class lvl & shared among all instances )\n",
    "  They are defined outside of any method and are usually used to store information that is common to all instances of the class. For example, a class variable can be used to store the number of instances of a class that have been created.\n",
    "\n"
   ]
  },
  {
   "cell_type": "code",
   "execution_count": null,
   "metadata": {},
   "outputs": [],
   "source": []
  },
  {
   "cell_type": "code",
   "execution_count": null,
   "metadata": {},
   "outputs": [],
   "source": [
    "# 2.Class Method\n",
    "''''IMP: Without creating an instance of the class, you can call the class method with – Class_name.Method_name().'''\n",
    "class My_class():\n",
    "\n",
    "    def instance_method(self):\n",
    "        print(\"this is instance method.\")\n",
    "\n",
    "    @classmethod\n",
    "    def class_method(cls):\n",
    "        return \"This is a class method.\"\n",
    "\n",
    "obj = My_class()\n",
    "#print(obj.class_method())\n",
    "obj.instance_method()\n",
    "# My_class.instance_method(obj)\n",
    "My_class.class_method()"
   ]
  },
  {
   "cell_type": "code",
   "execution_count": 10,
   "metadata": {},
   "outputs": [
    {
     "name": "stdout",
     "output_type": "stream",
     "text": [
      "2\n",
      "2\n"
     ]
    }
   ],
   "source": [
    "class MyClass:\n",
    "    class_variable = 0\n",
    "    \n",
    "    def __init__(self):\n",
    "        MyClass.class_variable += 1\n",
    "        \n",
    "    def print_class_variable(self):\n",
    "        print(MyClass.class_variable)\n",
    "        \n",
    "\n",
    "obj1 = MyClass()\n",
    "obj2 = MyClass()\n",
    "\n",
    "obj1.print_class_variable() # Output: 2\n",
    "obj2.print_class_variable() # Output: 2"
   ]
  },
  {
   "cell_type": "markdown",
   "metadata": {},
   "source": [
    "# Instance Variables (Defined@ the instance lvl & r unq to each instance)\n",
    " They are defined inside the init method and are usually used to store information that is specific to each instance of the class. For example, an instance variable can be used to store the name of an employee in a class that represents an employee.\n",
    "\n"
   ]
  },
  {
   "cell_type": "code",
   "execution_count": null,
   "metadata": {},
   "outputs": [],
   "source": [
    "class MyClass:\n",
    "    def __init__(self, name):\n",
    "        self.name = name\n",
    "        \n",
    "    def print_name(self):\n",
    "        print(self.name)\n",
    "\n",
    "obj1 = MyClass(\"John\")\n",
    "obj2 = MyClass(\"Jane\")\n",
    "\n",
    "obj1.print_name() # Output: John\n",
    "obj2.print_name() # Output: Jane"
   ]
  },
  {
   "cell_type": "code",
   "execution_count": 16,
   "metadata": {},
   "outputs": [
    {
     "name": "stdout",
     "output_type": "stream",
     "text": [
      "Car 1: Toyota Camry\n",
      "Car 2: Honda Accord\n",
      "Total number of cars: 2\n",
      "Modified total number of cars: 10\n"
     ]
    }
   ],
   "source": [
    "class Car:\n",
    "    # Class variable\n",
    "    total_cars = 0\n",
    "\n",
    "    def __init__(self, brand, model):\n",
    "        # Instance variables\n",
    "        self.brand = brand\n",
    "        self.model = model\n",
    "        Car.total_cars += 1  # Increment total number of cars when an instance is created\n",
    "\n",
    "    def display_info(self):\n",
    "        print(f\"Brand: {self.brand}, Model: {self.model}\")\n",
    "\n",
    "# Create instances of the Car class\n",
    "car1 = Car(\"Toyota\", \"Camry\")\n",
    "car2 = Car(\"Honda\", \"Accord\")\n",
    "\n",
    "# Accessing instance variables\n",
    "print(\"Car 1:\", car1.brand, car1.model)  # Output: Car 1: Toyota Camry\n",
    "print(\"Car 2:\", car2.brand, car2.model)  # Output: Car 2: Honda Accord\n",
    "\n",
    "# Accessing class variable\n",
    "print(\"Total number of cars:\", Car.total_cars)  # Output: Total number of cars: 2\n",
    "\n",
    "# Modify class variable\n",
    "Car.total_cars = 10\n",
    "print(\"Modified total number of cars:\", Car.total_cars)  # Output: Modified total number of cars: 10\n"
   ]
  },
  {
   "cell_type": "markdown",
   "metadata": {},
   "source": [
    "# Static Method"
   ]
  },
  {
   "cell_type": "code",
   "execution_count": 1,
   "metadata": {},
   "outputs": [
    {
     "name": "stdout",
     "output_type": "stream",
     "text": [
      "This is a static method\n"
     ]
    },
    {
     "data": {
      "text/plain": [
       "'This is a static method'"
      ]
     },
     "execution_count": 1,
     "metadata": {},
     "output_type": "execute_result"
    }
   ],
   "source": [
    "\n",
    "defined using the @staticmethod decorator\n",
    "We call the static methods directly on the class MathOperations without creating an instance of the class.\n",
    "'''Static methods cannot access the class data. In other words, they do not need to access the class data. They are self-sufficient and can work on their own.  Since they are not attached to any class attribute, they cannot get or set the instance state or class state.'''\n",
    "\n",
    "class My_class():\n",
    "    @staticmethod\n",
    "    def static_method():\n",
    "        return \"This is a static method\"\n",
    "\n",
    "obj = My_class()\n",
    "print(obj.static_method())\n",
    "\n",
    "# we can directly call static method without creating instance of cls same like class method\n",
    "My_class.static_method()"
   ]
  },
  {
   "cell_type": "code",
   "execution_count": 84,
   "metadata": {},
   "outputs": [
    {
     "name": "stdout",
     "output_type": "stream",
     "text": [
      "8\n"
     ]
    }
   ],
   "source": [
    "class MathUtils:\n",
    "    @staticmethod\n",
    "    def add(a, b):\n",
    "        return a + b\n",
    "\n",
    "result = MathUtils.add(5, 3)\n",
    "print(result)  # Output: 8\n"
   ]
  },
  {
   "cell_type": "code",
   "execution_count": 11,
   "metadata": {},
   "outputs": [
    {
     "name": "stdout",
     "output_type": "stream",
     "text": [
      "Addition: 8\n",
      "Subtraction: 6\n"
     ]
    }
   ],
   "source": [
    "\n",
    "class MathOperations:\n",
    "    @staticmethod\n",
    "    def add(x, y):\n",
    "        return x + y\n",
    "\n",
    "    @staticmethod\n",
    "    def subtract(x, y):\n",
    "        return x - y\n",
    "\n",
    "# Call static methods directly on the class\n",
    "print(\"Addition:\", MathOperations.add(5, 3))        # Output: Addition: 8\n",
    "print(\"Subtraction:\", MathOperations.subtract(8, 2)) # Output: Subtraction: 6\n",
    "\n",
    "'''In this example:\n",
    "\n",
    "We define a class MathOperations with two static methods: add and subtract.\n",
    "These static methods do not have access to the instance (self) or class (cls) objects.\n",
    "We call the static methods directly on the class MathOperations without creating an instance of the class.\n",
    "Static methods are useful for grouping utility functions related to the class within the class definition. They are not dependent on the state of the class or its instances and can be called in a stateless manner.'''"
   ]
  },
  {
   "cell_type": "code",
   "execution_count": 76,
   "metadata": {},
   "outputs": [
    {
     "name": "stdout",
     "output_type": "stream",
     "text": [
      "fun1 of call B\n",
      "fun2 of call B\n"
     ]
    }
   ],
   "source": [
    "# Method Overriding: same method same params\n",
    "'''\n",
    "Method overriding is an example of run time polymorphism.\n",
    "It is used to change the behavior of existing methods and there is a need for at least two classes for method overriding. In method overriding, inheritance always required as it is done between parent class(superclass) and child class(child class) methods.\n",
    "'''\n",
    "\n",
    "class A:\n",
    "    def fun1(self):\n",
    "        print('fun1 of call A')\n",
    "\n",
    "    def fun2(self):\n",
    "        print('fun2 of call A')\n",
    "\n",
    "class B(A):\n",
    "    def fun1(self):\n",
    "        print('fun1 of call B')\n",
    "\n",
    "    def fun3(self):\n",
    "        print('fun2 of call B')\n",
    "\n",
    "obj = B()\n",
    "obj.fun1()\n",
    "obj.fun3()"
   ]
  },
  {
   "cell_type": "code",
   "execution_count": null,
   "metadata": {},
   "outputs": [],
   "source": [
    "'''\n",
    "Software Development Life Cycle (SDLC) :\n",
    "- requirement\n",
    "- planning\n",
    "- desining\n",
    "- development\n",
    "- testing\n",
    "- deployment\n",
    "- maintenance\n",
    "'''"
   ]
  },
  {
   "cell_type": "code",
   "execution_count": 59,
   "metadata": {},
   "outputs": [
    {
     "name": "stdout",
     "output_type": "stream",
     "text": [
      "Inside Child\n",
      "Inside Parent2\n"
     ]
    }
   ],
   "source": [
    "# Python program to demonstrate\n",
    "# overriding in multiple inheritance\n",
    "\n",
    "\n",
    "# Defining parent class 1\n",
    "class Parent1():\n",
    "\t\t\n",
    "\t# Parent's show method\n",
    "\tdef show(self):\n",
    "\t\tprint(\"Inside Parent1\")\n",
    "\t\t\n",
    "# Defining Parent class 2\n",
    "class Parent2():\n",
    "\t\t\n",
    "\t# Parent's show method\n",
    "\tdef display(self):\n",
    "\t\tprint(\"Inside Parent2\")\n",
    "\t\t\n",
    "\t\t\n",
    "# Defining child class\n",
    "class Child(Parent1, Parent2):\n",
    "\t\t\n",
    "\t# Child's show method\n",
    "\tdef show(self):\n",
    "\t\tprint(\"Inside Child\")\n",
    "\t\n",
    "\t\t\n",
    "# Driver's code\n",
    "obj = Child()\n",
    "\n",
    "obj.show()\n",
    "obj.display()\n"
   ]
  },
  {
   "cell_type": "markdown",
   "metadata": {},
   "source": [
    "# Abstraction (A process of hiding the implementation details from user) \n",
    "It provides only highlighted portion of the service. (Aam khao guthhi math gino !!)\n",
    "we use abstraction in code when action is common but implementation is different//\n",
    "\n",
    "vdo link = https://www.youtube.com/watch?v=e8xctqrzSSA"
   ]
  },
  {
   "cell_type": "code",
   "execution_count": 6,
   "metadata": {},
   "outputs": [
    {
     "ename": "ModuleNotFoundError",
     "evalue": "No module named 'first'",
     "output_type": "error",
     "traceback": [
      "\u001b[1;31m---------------------------------------------------------------------------\u001b[0m",
      "\u001b[1;31mModuleNotFoundError\u001b[0m                       Traceback (most recent call last)",
      "Cell \u001b[1;32mIn[6], line 11\u001b[0m\n\u001b[0;32m      9\u001b[0m     difference \u001b[38;5;241m=\u001b[39m a \u001b[38;5;241m-\u001b[39m b\n\u001b[0;32m     10\u001b[0m     \u001b[38;5;28mprint\u001b[39m(\u001b[38;5;124m'\u001b[39m\u001b[38;5;124mSubtraction of the two numbers is:\u001b[39m\u001b[38;5;124m'\u001b[39m, difference)\n\u001b[1;32m---> 11\u001b[0m \u001b[38;5;28;01mimport\u001b[39;00m \u001b[38;5;21;01mfirst\u001b[39;00m\n\u001b[0;32m     12\u001b[0m \u001b[38;5;28;01mimport\u001b[39;00m \u001b[38;5;21;01msecond\u001b[39;00m\n\u001b[0;32m     14\u001b[0m first\u001b[38;5;241m.\u001b[39madd()\n",
      "\u001b[1;31mModuleNotFoundError\u001b[0m: No module named 'first'"
     ]
    }
   ],
   "source": [
    "def add():                                            #first.py & second.py are 2 diff files and main.py contains last 2 lines \n",
    "    a = int(input('Enter the first number: '))     \n",
    "    b = int(input('Enter the second number: '))\n",
    "    summation = a + b\n",
    "    print('Addition of the two numbers is:', summation)\n",
    "def subtract():\n",
    "    a = int(input('Enter the first number: '))\n",
    "    b = int(input('Enter the second number: '))\n",
    "    difference = a - b\n",
    "    print('Subtraction of the two numbers is:', difference)\n",
    "import first\n",
    "import second\n",
    "\n",
    "first.add()\n",
    "second.subtract()\n"
   ]
  },
  {
   "cell_type": "code",
   "execution_count": 15,
   "metadata": {},
   "outputs": [
    {
     "name": "stdout",
     "output_type": "stream",
     "text": [
      "every car has 4 wheels\n",
      "speed is 70 kmph\n",
      "every car has 4 wheels\n",
      "speed is 100 kmph\n"
     ]
    }
   ],
   "source": [
    "from abc import ABC, abstractmethod\n",
    "class car(ABC):\n",
    "    def show (self):\n",
    "        print('every car has 4 wheels')\n",
    "    \n",
    "    @abstractmethod  #decorator\n",
    "    def speed(self):\n",
    "        pass\n",
    "class Maruti(car):\n",
    "    def speed(self):\n",
    "        print('speed is 70 kmph')\n",
    "        \n",
    "class Suzuki(car):\n",
    "    def speed(self):\n",
    "        print('speed is 100 kmph')\n",
    "\n",
    "obj = Maruti()\n",
    "obj.show()\n",
    "obj.speed()\n",
    "\n",
    "obj2 = Suzuki()\n",
    "obj2.show()\n",
    "obj2.speed()"
   ]
  },
  {
   "cell_type": "markdown",
   "metadata": {},
   "source": [
    "# Here the code is same as prv. bt here under the Maruti class speed method is not defined, so it throws errors. "
   ]
  },
  {
   "cell_type": "code",
   "execution_count": 16,
   "metadata": {},
   "outputs": [
    {
     "ename": "TypeError",
     "evalue": "Can't instantiate abstract class Maruti with abstract method speed",
     "output_type": "error",
     "traceback": [
      "\u001b[1;31m---------------------------------------------------------------------------\u001b[0m",
      "\u001b[1;31mTypeError\u001b[0m                                 Traceback (most recent call last)",
      "Cell \u001b[1;32mIn[16], line 19\u001b[0m\n\u001b[0;32m     16\u001b[0m         \u001b[38;5;28mprint\u001b[39m(\u001b[38;5;124m'\u001b[39m\u001b[38;5;124mSpeed is 100 kmph\u001b[39m\u001b[38;5;124m'\u001b[39m)\n\u001b[0;32m     18\u001b[0m \u001b[38;5;66;03m# Attempting to instantiate Maruti without implementing the speed method\u001b[39;00m\n\u001b[1;32m---> 19\u001b[0m obj \u001b[38;5;241m=\u001b[39m Maruti()\n",
      "\u001b[1;31mTypeError\u001b[0m: Can't instantiate abstract class Maruti with abstract method speed"
     ]
    }
   ],
   "source": [
    "from abc import ABC, abstractmethod\n",
    "\n",
    "class car(ABC):\n",
    "    def show(self):\n",
    "        print('Every car has 4 wheels')\n",
    "\n",
    "    @abstractmethod\n",
    "    def speed(self):\n",
    "        pass\n",
    "\n",
    "class Maruti(car):\n",
    "    pass  # Missing implementation of the speed method\n",
    "\n",
    "class Suzuki(car):\n",
    "    def speed(self):\n",
    "        print('Speed is 100 kmph')\n",
    "\n",
    "# Attempting to instantiate Maruti without implementing the speed method\n",
    "obj = Maruti()  # This will raise a TypeError\n",
    "\n",
    "# Output:\n",
    "# TypeError: Can't instantiate abstract class Maruti with abstract methods speed\n"
   ]
  },
  {
   "cell_type": "code",
   "execution_count": 3,
   "metadata": {},
   "outputs": [
    {
     "name": "stdout",
     "output_type": "stream",
     "text": [
      "Name: TATA\n",
      "Color: White\n",
      "Color: Red\n"
     ]
    }
   ],
   "source": [
    "# abstract class / method\n",
    "'''\n",
    "- Abstract class can be considered as blueprint for other classes\n",
    "- A class which contains one or more abstract methods is called an abstract class. \n",
    "- An abstract method is a method that has a declaration but does not have an implementation.\n",
    "'''\n",
    "\n",
    "from abc import ABC, abstractmethod\n",
    "\n",
    "class Car(ABC):       # \n",
    "\n",
    "    @abstractmethod\n",
    "    def carName(self):           #abstract method has't any body/here no code is written/ this method's implementation is done in child class\n",
    "        pass\n",
    "       \n",
    "    def color(self):\n",
    "        print('Color: White')\n",
    "\n",
    "class Tata(Car):\n",
    "\n",
    "    def carName(self):\n",
    "        print(\"Name: TATA\")\n",
    "\n",
    "    def color(self):\n",
    "        super().color()\n",
    "        print('Color: Red')\n",
    "\n",
    "t = Tata()\n",
    "t.carName()\n",
    "t.color()"
   ]
  },
  {
   "cell_type": "code",
   "execution_count": 58,
   "metadata": {},
   "outputs": [
    {
     "name": "stdout",
     "output_type": "stream",
     "text": [
      "160\n"
     ]
    }
   ],
   "source": [
    "def product(a, b):\n",
    "    p = a * b\n",
    "    print(p)\n",
    " \n",
    "# Second product method\n",
    "# Takes three argument and print their\n",
    "# product\n",
    " \n",
    " \n",
    "def product(a, b, c):\n",
    "    p = a * b*c\n",
    "    print(p)\n",
    " \n",
    "# Uncommenting the below line shows an error\n",
    "# product(4, 5)\n",
    " \n",
    " \n",
    "# This line will call the second product method\n",
    "product(4, 5,8)"
   ]
  },
  {
   "cell_type": "markdown",
   "metadata": {},
   "source": [
    "# Encapsulation \n",
    "video link = https://www.youtube.com/watch?v=3zGVokYEQgo\n",
    "\n",
    "  involves bundling the data (attributes) and methods (functions) that operate on the data into a single unit known as a class. It restricts access to the inner workings of a class and hides the data from outside interference.\n",
    "  Encapsulation is achieved in Python by using private attributes and methods, which are denoted by prefixing their names with double underscores __. These private members are not directly accessible from outside the class."
   ]
  },
  {
   "cell_type": "code",
   "execution_count": 10,
   "metadata": {},
   "outputs": [
    {
     "name": "stdout",
     "output_type": "stream",
     "text": [
      "a=  10\n",
      "b=  20\n",
      "outside of class 10\n",
      "outside of class 10\n"
     ]
    }
   ],
   "source": [
    "class A:      #All classes have a function called __init__(), which is always executed when the class is being initiated.\n",
    "    _a = 10     #protected\n",
    "    __b = 20    #Private\n",
    "    def Show (self):                             \n",
    "        print(\"a= \", self._a)\n",
    "        print(\"b= \",self.__b)\n",
    "        \n",
    "obj = A()\n",
    "obj.Show()  # we can call the func of class A i,e (show) by the obj of class A \n",
    "# here we can even access the private member (__b)cz class ka member Show ,Show is a member of the class A in where __b is defined, \n",
    "# We can use protected member outside the class, but can't use private member outside the class\n",
    "\n",
    "print('outside of class', A._a)  # we are useing protected member outside the class, so it executes [protected mmbr k sei class\n",
    "print('outside of class', obj._a) #er baire use kora jai bt same class er obj./ class name \"A\" er through ]\n",
    "#print('outside of class', obj.__b) # we are useing private member outside the class, so it  not executes / class r baire private obj k access korai jai na "
   ]
  },
  {
   "cell_type": "code",
   "execution_count": 20,
   "metadata": {},
   "outputs": [
    {
     "name": "stdout",
     "output_type": "stream",
     "text": [
      "Calling protected member of base class:  5\n",
      "Calling modified protected member outside class:  10\n",
      "Accessing protected member of obj1:  10\n",
      "Accessing protected member of obj2:  5\n"
     ]
    }
   ],
   "source": [
    "# Encapsulation\n",
    "'''\n",
    "- wrapping all data(veriables & data) together\n",
    "- restricting of direct access\n",
    "'''\n",
    "\n",
    "class Base():\n",
    "    def __init__(self):\n",
    "        self._a = 5 #protected member\n",
    "\n",
    "class Derived(Base):\n",
    "    def __init__(self):\n",
    "\n",
    "        #calling constructor of base class\n",
    "        Base.__init__(self)\n",
    "        print(\"Calling protected member of base class: \", self._a)\n",
    "\n",
    "        self._a=10\n",
    "        print(\"Calling modified protected member outside class: \", self._a)\n",
    "\n",
    "\n",
    "obj1 = Derived()\n",
    "\n",
    "obj2 = Base()\n",
    "\n",
    "print('Accessing protected member of obj1: ',obj1._a)\n",
    "print('Accessing protected member of obj2: ',obj2._a)\n"
   ]
  },
  {
   "cell_type": "code",
   "execution_count": null,
   "metadata": {},
   "outputs": [],
   "source": [
    "class BankAccount:\n",
    "    def __init__(self, account_number, balance):\n",
    "        self.__account_number = account_number  # Private attribute\n",
    "        self.__balance = balance  # Private attribute\n",
    "\n",
    "        \n",
    "'''In the example provided, deposit, withdraw, get_balance, and get_account_number are public methods because \n",
    "they do not have leading underscores in their names.'''\n",
    "\n",
    "\n",
    "    def deposit(self, amount):    \n",
    "        self.__balance += amount\n",
    "\n",
    "    def withdraw(self, amount):\n",
    "        if amount <= self.__balance:\n",
    "            self.__balance -= amount\n",
    "        else:\n",
    "            print(\"Insufficient funds!\")\n",
    "\n",
    "    def get_balance(self):\n",
    "        return self.__balance\n",
    "\n",
    "    def get_account_number(self):\n",
    "        return self.__account_number\n",
    "\n",
    "# Create an instance of the BankAccount class\n",
    "account1 = BankAccount(\"123456789\", 1000)\n",
    "\n",
    "# Try to access private attributes directly (will result in an AttributeError)\n",
    "# print(account1.__balance)\n",
    "\n",
    "# Access private attributes via public methods\n",
    "print(\"Account Number:\", account1.get_account_number())  # Output: Account Number: 123456789\n",
    "print(\"Balance:\", account1.get_balance())  # Output: Balance: 1000\n",
    "\n",
    "# Make a deposit\n",
    "account1.deposit(500)\n",
    "print(\"New Balance after deposit:\", account1.get_balance())  # Output: New Balance after deposit: 1500\n",
    "\n",
    "# Make a withdrawal\n",
    "account1.withdraw(200)\n",
    "print(\"New Balance after withdrawal:\", account1.get_balance())  # Output: New Balance after withdrawal: 1300\n"
   ]
  },
  {
   "cell_type": "markdown",
   "metadata": {},
   "source": [
    "# Polymorphism\n"
   ]
  },
  {
   "cell_type": "code",
   "execution_count": 22,
   "metadata": {},
   "outputs": [
    {
     "name": "stdout",
     "output_type": "stream",
     "text": [
      "10\n",
      "55\n",
      "4\n",
      "5\n"
     ]
    }
   ],
   "source": [
    "print(5+5)       # +operator use as addition \n",
    "print('5'+'5')    # +operator use as Concat\n",
    "\n",
    "\n",
    "print(len('anil'))\n",
    "print(len(['anil','sunil','tushar','rabi','modon']))\n"
   ]
  },
  {
   "cell_type": "markdown",
   "metadata": {},
   "source": [
    "# Overloading\n",
    " A class contains more than one method with same name, and different args\n",
    " \n",
    "  When you define multiple methods with the same name in a class, only the last method definition will be retained, effectively overriding any previous definitions."
   ]
  },
  {
   "cell_type": "code",
   "execution_count": 17,
   "metadata": {},
   "outputs": [
    {
     "name": "stdout",
     "output_type": "stream",
     "text": [
      "-----eg.1.output:-----\n",
      "3\n",
      "AnilMohite\n",
      "-----eg.2.output:-----\n",
      "3\n",
      "AnilMohite\n"
     ]
    }
   ],
   "source": [
    "# Method Overloading: same method diffrent params\n",
    "'''\n",
    "Method Overloading is an example of Compile time polymorphism\n",
    "Python does not support method overloading.\n",
    "We may overload the methods but can only use the latest defined method.\n",
    "'''\n",
    "# eg.1\n",
    "def add(a,b):\n",
    "    return a+b\n",
    "\n",
    "print('-----eg.1.output:-----')\n",
    "print(add(1,2))\n",
    "print(add('Anil','Mohite'))\n",
    "\n",
    "# eg.2\n",
    "class fun:\n",
    "    def add(self,a,b):\n",
    "        return a+b \n",
    "\n",
    "obj = fun()\n",
    "print('-----eg.2.output:-----')\n",
    "print(obj.add(1,2))\n",
    "print(obj.add('Anil','Mohite'))\n"
   ]
  },
  {
   "cell_type": "code",
   "execution_count": 25,
   "metadata": {},
   "outputs": [
    {
     "ename": "TypeError",
     "evalue": "calculator.add() missing 1 required positional argument: 'c'",
     "output_type": "error",
     "traceback": [
      "\u001b[1;31m---------------------------------------------------------------------------\u001b[0m",
      "\u001b[1;31mTypeError\u001b[0m                                 Traceback (most recent call last)",
      "Cell \u001b[1;32mIn[25], line 8\u001b[0m\n\u001b[0;32m      5\u001b[0m         \u001b[38;5;28;01mreturn\u001b[39;00m a\u001b[38;5;241m+\u001b[39mb\u001b[38;5;241m+\u001b[39mc\n\u001b[0;32m      7\u001b[0m obj1 \u001b[38;5;241m=\u001b[39m calculator()\n\u001b[1;32m----> 8\u001b[0m \u001b[38;5;28mprint\u001b[39m(obj1\u001b[38;5;241m.\u001b[39madd(\u001b[38;5;241m2\u001b[39m,\u001b[38;5;241m3\u001b[39m))\n\u001b[0;32m      9\u001b[0m \u001b[38;5;28mprint\u001b[39m(obj1\u001b[38;5;241m.\u001b[39madd(\u001b[38;5;241m2\u001b[39m,\u001b[38;5;241m3\u001b[39m,\u001b[38;5;241m4\u001b[39m))\n",
      "\u001b[1;31mTypeError\u001b[0m: calculator.add() missing 1 required positional argument: 'c'"
     ]
    }
   ],
   "source": [
    "class calculator:\n",
    "    def add(self,a,b):\n",
    "        return a+b\n",
    "    def add(self,a,b,c):\n",
    "        return a+b+c\n",
    "\n",
    "obj1 = calculator()\n",
    "print(obj1.add(2,3))\n",
    "print(obj1.add(2,3,4))"
   ]
  },
  {
   "cell_type": "code",
   "execution_count": 23,
   "metadata": {},
   "outputs": [
    {
     "ename": "TypeError",
     "evalue": "calculator.add() missing 1 required positional argument: 'c'",
     "output_type": "error",
     "traceback": [
      "\u001b[1;31m---------------------------------------------------------------------------\u001b[0m",
      "\u001b[1;31mTypeError\u001b[0m                                 Traceback (most recent call last)",
      "Cell \u001b[1;32mIn[23], line 9\u001b[0m\n\u001b[0;32m      6\u001b[0m         \u001b[38;5;28;01mreturn\u001b[39;00m a \u001b[38;5;241m+\u001b[39m b \u001b[38;5;241m+\u001b[39m c\n\u001b[0;32m      8\u001b[0m calc \u001b[38;5;241m=\u001b[39m calculator()\n\u001b[1;32m----> 9\u001b[0m \u001b[38;5;28mprint\u001b[39m(calc\u001b[38;5;241m.\u001b[39madd(\u001b[38;5;241m2\u001b[39m, \u001b[38;5;241m3\u001b[39m))\n\u001b[0;32m     10\u001b[0m \u001b[38;5;28mprint\u001b[39m(calc\u001b[38;5;241m.\u001b[39madd(\u001b[38;5;241m2\u001b[39m, \u001b[38;5;241m3\u001b[39m, \u001b[38;5;241m6\u001b[39m))\n",
      "\u001b[1;31mTypeError\u001b[0m: calculator.add() missing 1 required positional argument: 'c'"
     ]
    }
   ],
   "source": [
    "class calculator:\n",
    "    def add(self, a, b):\n",
    "        return a + b\n",
    "    \n",
    "    def add(self, a, b, c):\n",
    "        return a + b + c\n",
    "\n",
    "calc = calculator()\n",
    "print(calc.add(2, 3))\n",
    "print(calc.add(2, 3, 6))\n"
   ]
  },
  {
   "cell_type": "markdown",
   "metadata": {},
   "source": [
    "Only the second add method definition will be retained, and the first one will be overridden. Therefore, calling calc.add(2, 3) will result in a TypeError because there's no method in the calculator class that accepts only two arguments."
   ]
  },
  {
   "cell_type": "markdown",
   "metadata": {},
   "source": [
    "# overloading [under 1 class- many method(with same name & diff param )]"
   ]
  },
  {
   "cell_type": "code",
   "execution_count": null,
   "metadata": {},
   "outputs": [],
   "source": []
  },
  {
   "cell_type": "code",
   "execution_count": null,
   "metadata": {},
   "outputs": [],
   "source": [
    "class Calculator:\n",
    "    def add(self, a, b):\n",
    "        return a + b\n",
    "    \n",
    "    def add(self, a, b, c):  # Method overloading based on number of parameters\n",
    "        return a + b + c\n",
    "    \n",
    "    def add(self, *args):  # Method overloading using variable-length argument list\n",
    "        total = 0\n",
    "        for num in args:\n",
    "            total += num\n",
    "        return total\n",
    "\n",
    "# Create an instance of the Calculator class\n",
    "calc = Calculator()\n",
    "\n",
    "# Call the add method with different number of parameters\n",
    "print(\"Sum of 2 and 3 is:\", calc.add(2, 3))  # Output: Sum of 2 and 3 is: 5\n",
    "print(\"Sum of 2, 3, and 5 is:\", calc.add(2, 3, 5))  # Output: Sum of 2, 3, and 5 is: 10\n",
    "print(\"Sum of 2, 3, 5, and 7 is:\", calc.add(2, 3, 5, 7))  # Output: Sum of 2, 3, 5, and 7 is: 17\n"
   ]
  },
  {
   "cell_type": "markdown",
   "metadata": {},
   "source": [
    "# Overriding [parent & child class hv smae method name]"
   ]
  },
  {
   "cell_type": "code",
   "execution_count": 16,
   "metadata": {},
   "outputs": [
    {
     "name": "stdout",
     "output_type": "stream",
     "text": [
      "Dog barks\n",
      "Cat meows\n"
     ]
    }
   ],
   "source": [
    "class Animal:\n",
    "    def sound(self):\n",
    "        print(\"Animal makes a sound\")\n",
    "\n",
    "class Dog(Animal):\n",
    "    def sound(self):  # Overriding the sound method of the Animal class\n",
    "        print(\"Dog barks\")\n",
    "\n",
    "class Cat(Animal):\n",
    "    def sound(self):  # Overriding the sound method of the Animal class\n",
    "        print(\"Cat meows\")\n",
    "\n",
    "# Create instances of Dog and Cat classes\n",
    "dog = Dog()\n",
    "cat = Cat()\n",
    "\n",
    "# Call the sound method of each instance\n",
    "dog.sound()  # Output: Dog barks\n",
    "cat.sound()  # Output: Cat meows\n"
   ]
  },
  {
   "cell_type": "code",
   "execution_count": null,
   "metadata": {},
   "outputs": [],
   "source": []
  },
  {
   "cell_type": "code",
   "execution_count": 23,
   "metadata": {},
   "outputs": [
    {
     "name": "stdout",
     "output_type": "stream",
     "text": [
      "----eg. 1------\n",
      "4\n",
      "3\n",
      "----eg. 2------\n",
      "5\n",
      "anilmohite\n"
     ]
    }
   ],
   "source": [
    "# Polymorphism\n",
    "'''\n",
    "- The word polymorphism means having many forms. \n",
    "- In programming, polymorphism means the same function name (but different signatures) being used for different types\n",
    "'''\n",
    "\n",
    "# eg. 1\n",
    "#inbuild polymorphism\n",
    "print('----eg. 1------')\n",
    "print(len('Anil'))\n",
    "print(len([1,3,4]))\n",
    "\n",
    "\n",
    "print('----eg. 2------')\n",
    "# eg. 2\n",
    "def add(a,b):\n",
    "    return a+b\n",
    "\n",
    "print(add(2,3))\n",
    "print(add('anil','mohite'))\n"
   ]
  },
  {
   "cell_type": "markdown",
   "metadata": {},
   "source": [
    "# Inheritance"
   ]
  },
  {
   "cell_type": "code",
   "execution_count": 2,
   "metadata": {},
   "outputs": [
    {
     "name": "stdout",
     "output_type": "stream",
     "text": [
      "Enter first no: 20\n",
      "Enter first no: 5\n",
      "addition: 25\n",
      "difference: 15\n",
      "addition: 25\n",
      "difference: 15\n",
      "multiplication: 100\n",
      "division: 4.0\n",
      "reminder: 0\n"
     ]
    }
   ],
   "source": [
    "class A:\n",
    "    num1 = int(input('Enter first no: '))\n",
    "    num2 = int(input('Enter first no: '))\n",
    "    def Add (self):\n",
    "        print('addition:' ,self.num1 +self.num2)\n",
    "    def Sub(self):\n",
    "        print('difference:' ,self.num1 -self.num2)\n",
    "        \n",
    "        \n",
    "'''Without self parameter we cant access the class A variable  i.e num1, num2  cz class A variables are dealing with obj, \n",
    "and self (reference parameter) dealing with current obj.'''  \n",
    "           \n",
    "class B(A):\n",
    "    def Multi(self):\n",
    "        print('multiplication:' ,self.num1 * self.num2)\n",
    "    def Div(self):\n",
    "        print('division:' ,self.num1 / self.num2)\n",
    "    def Rem(self):\n",
    "        print('reminder:' ,self.num1 % self.num2)\n",
    "'''operation gul k perform korar jonno class er obj lagbe  so, obj = A()  & obj = B() created'''        \n",
    "obj = A()\n",
    "obj.Add()\n",
    "obj.Sub()\n",
    "\n",
    "obj = B()\n",
    "obj.Add()\n",
    "obj.Sub()\n",
    "obj.Multi()\n",
    "obj.Div()\n",
    "obj.Rem()           \n",
    "\n",
    "        "
   ]
  },
  {
   "cell_type": "code",
   "execution_count": null,
   "metadata": {},
   "outputs": [],
   "source": []
  },
  {
   "cell_type": "code",
   "execution_count": null,
   "metadata": {},
   "outputs": [],
   "source": []
  },
  {
   "cell_type": "code",
   "execution_count": 24,
   "metadata": {},
   "outputs": [
    {
     "name": "stdout",
     "output_type": "stream",
     "text": [
      "=========without multithreading=========\n",
      "2023-01-10 10:13:11.073106\n",
      "This is func1 cnt : 0\n",
      "This is func1 cnt : 1\n",
      "This is func1 cnt : 2\n",
      "This is func1 cnt : 3\n",
      "This is func1 cnt : 4\n",
      "This is func1 cnt : 5\n",
      "This is func1 cnt : 6\n",
      "This is func1 cnt : 7\n",
      "This is func1 cnt : 8\n",
      "This is func1 cnt : 9\n",
      "2023-01-10 10:13:21.085842\n",
      "=========with multithreading=========\n",
      "2023-01-10 10:13:21.088852\n",
      "This is func1 cnt : 2\n",
      "This is func1 cnt : 3This is func1 cnt : 10\n",
      "\n",
      "2023-01-10 10:13:22.096308\n",
      "This is func1 cnt : 4\n",
      "This is func1 cnt : 11\n",
      "This is func1 cnt : 12\n",
      "This is func1 cnt : 5\n",
      "This is func1 cnt : 13\n",
      "This is func1 cnt : 6\n",
      "This is func1 cnt : 14\n",
      "This is func1 cnt : 7\n",
      "This is func1 cnt : 15\n",
      "This is func1 cnt : 16\n",
      "This is func1 cnt : 17\n",
      "This is func1 cnt : 18\n",
      "This is func1 cnt : 19\n"
     ]
    }
   ],
   "source": [
    "# threading\n",
    "\"\"\"\n",
    "Python supports multi-threading. The Python standard library includes a module called threading that provides functionality for creating and managing threads in your Python programs.\n",
    "\n",
    "However, it's important to note that due to the Global Interpreter Lock (GIL) in CPython (the reference implementation of Python), multi-threading in Python may not provide true parallel execution on multi-core systems. The GIL ensures that only one thread executes Python bytecode at a time, even on multi-core systems. This means that while multiple threads can exist and perform I/O-bound tasks concurrently, they won't fully utilize multiple CPU cores for CPU-bound tasks.\n",
    "\n",
    "If you need to achieve parallelism for CPU-bound tasks, you might consider using Python's multiprocessing module, which allows you to create multiple processes instead of threads. Each process will have its own Python interpreter and memory space, enabling true parallel execution on multiple CPU cores.\n",
    "\n",
    "Alternatively, if your use case involves primarily I/O-bound tasks such as network requests or disk operations, threading can still be a suitable choice for concurrency in Python. The threading module provides a simple and convenient way to work with threads and manage their executio\n",
    "\n",
    "\"\"\"\n",
    "\n",
    "import threading\n",
    "import time\n",
    "import datetime\n",
    "\n",
    "def cntfun1(st=0,ed=5):\n",
    "    for i in range(st,ed):\n",
    "        print(f'This is func1 cnt : {i}', end=\"\\n\")\n",
    "        time.sleep(1)\n",
    "\n",
    "def cntfun2(st=0,ed=5):\n",
    "    for i in range(st,ed):\n",
    "        print(f'This is func2 cnt : {i}', end=\"\\n\")\n",
    "        time.sleep(1)\n",
    "# --- without multithreading ------\n",
    "print('=========without multithreading=========')\n",
    "print(datetime.datetime.now())\n",
    "cntfun1(0,5)\n",
    "cntfun1(5,10)\n",
    "print(datetime.datetime.now())\n",
    "\n",
    "# --- with multithreading ------\n",
    "print('=========with multithreading=========')\n",
    "t1 = threading.Thread(target=cntfun1,args=(2,8))\n",
    "t2 = threading.Thread(target=cntfun1,args=(10,20))\n",
    "print(datetime.datetime.now())\n",
    "t1.start()\n",
    "time.sleep(1)\n",
    "t2.start()\n",
    "print(datetime.datetime.now())\n"
   ]
  },
  {
   "cell_type": "code",
   "execution_count": null,
   "metadata": {},
   "outputs": [],
   "source": [
    "# find max and min number \n",
    "l = [12,20,30,14,5,7]\n",
    "\n",
    "print('===========Method:1===========')\n",
    "minNum = min(l)\n",
    "maxNum = max(l)\n",
    "print('minNum: ',minNum)\n",
    "print('maxNum: ',maxNum)\n",
    "\n",
    "print('==========Method:2============')\n",
    "l.sort()\n",
    "print('minNum: ',l[0])\n",
    "print('maxNum: ',l[len(l)-1])\n",
    "\n",
    "print('==========Method:3============')\n",
    "mn = mx = l[0]\n",
    "for i in range(1,len(l)):\n",
    "    if l[i] >= l[0]: # 20 >= 12\n",
    "        mx = l[i]\n",
    "    elif l[i] <= l[0]:\n",
    "        mn = l[i]\n",
    "print('minNum: ',mn)\n",
    "print('maxNum: ',mx)\n"
   ]
  },
  {
   "cell_type": "code",
   "execution_count": 4,
   "metadata": {},
   "outputs": [
    {
     "name": "stdout",
     "output_type": "stream",
     "text": [
      "==========Method:1============\n",
      "121 is palindrom\n",
      "==========Method:2============\n",
      "l is here ['n', 'i', 't', 'i', 'n']\n",
      "nitin is palindrom\n",
      "==========Method:3============\n",
      "12121 is palindrom\n"
     ]
    }
   ],
   "source": [
    "# find palindrom\n",
    "\n",
    "s = '121'\n",
    "print('==========Method:1============')\n",
    "if s == s[::-1]:\n",
    "    print(s,'is palindrom')\n",
    "else:\n",
    "    print(s,'is not palindrom')\n",
    "\n",
    "print('==========Method:2============')\n",
    "s = 'nitin'\n",
    "l = list(s)\n",
    "print(\"l is here\",l)\n",
    "l.reverse()\n",
    "rs = ''.join(l)\n",
    "if s==rs:\n",
    "    print(s,'is palindrom')\n",
    "else:\n",
    "    print(s,'is not palindrom')\n",
    "\n",
    "print('==========Method:3============')\n",
    "def palindrome(s):\n",
    "    m = round(len(s)/2)\n",
    "    for i in range(0,m):\n",
    "        if s[i] != s[(len(s)-i)-1]:\n",
    "            return False\n",
    "    return True\n",
    "\n",
    "s = '12121'\n",
    "if palindrome(s):\n",
    "    print(s,'is palindrom')\n",
    "else:\n",
    "    print(s,'is not palindrom')\n"
   ]
  },
  {
   "cell_type": "markdown",
   "metadata": {},
   "source": [
    "Basic Questions"
   ]
  },
  {
   "cell_type": "code",
   "execution_count": 1,
   "metadata": {},
   "outputs": [
    {
     "data": {
      "text/plain": [
       "'\\n1. python:\\n- high-level, interpreted, general-purpose programming language\\n2. interpreted : execute code line by line\\n3. general-purpose: widely use, simple & easy to use\\n\\n4. Dynamically typed: (Data types are checked during execution)\\n\\tTypes:\\n\\t1.strongly-typed language, such as Python, \"1\" + 2 will result in a type error(no type conversion)\\n\\t2.weakly-typed language, such as Javascript, will simply output \"12\" as result.\\n\\t\\n\\tType-checking can be done at two stages:\\n\\t1.Static - Data types are check befor execution\\n\\t2.Dynamic - Data types are checked during execution\\n\\t\\n5. What is PEP 8 and why is it important?\\n- Python Enhancement Proposal \\n- official design document providing information to the Python\\n- style guidelines for Python Code\\n\\n6. What is Scope in Python?\\n- local (fucntion level)\\n- global (class level)\\n- module-level (module level)\\n- outermost (refers to all built-in names)\\nNote: Local scope objects can be synced with global scope objects using keywords such as global\\n\\n7.What are lists and tuples? What is the key difference between the two?\\n- both are sequence data types that can store a collection of objects\\n- both can store diffrent data types\\n- list: represented with square brackets [\\'as\\',1,2.01]\\n- tuple: represented with parantheses (\\'as\\',1,2.01)\\n- key difference is list is mutable (can be change) where as tuple is immutable(can\\'t change)\\n\\n8.  common built-in data types\\n-None Type: None - represent null\\n-Numeric Type: int, float, complex, bool\\n-Sequence Type: list, tuple, range, str\\n-Mapping Type: dict \\n-Set Type: set, fronzen set\\n\\n9. Pass ? - The pass keyword represents a null operation in Python\\n\\n9. Modules ? - Modules, in general, are simply Python files with a .py extension and can have a set of functions, classes, or variables defined and implemented. \\neg. import mymodel\\n\\nimport requests   --- module\\nresponse = requests.get(\"https://api.example.com/users\")\\ndata = response.json()\\n\\n10. Packages ? \\n- nothing but folder contains multiple modules. \\n- A package is simply a directory that contains one or more module files and special file called __init__.py.\\neg. from foo import bar\\n\\tfrom my_package.subpackage import module3\\n\\nfrom urllib.request import urlopen --- module\\nresponse = urlopen(\"https://www.example.com\")\\nhtml = response.read().decode()\\n\\n11. library? - collection of packages\\n\\n12.What are global, protected and private attributes in Python?\\n-Global : it is public veriable \\n-Protected: Defined with an underscore prefixed to their identifier eg. _sara. \\n\\t\\t-They can still be accessed and modified from outside the class\\n- Private: defined with double underscore prefixed to their identifier eg. __ansh\\n\\t\\t-hey cannot be accessed or modified from the outside directly\\n\\t\\t\\n13. What is the use of self in Python?\\n-Self is used to represent the instance of the class.\\n-With is keyword you can access the attributes and methods of the class in python\\n- it binds attribute with given arguments\\n\\n14.What is __init__?\\n- contructor method\\n- automatically called to allocate memory when oject/instance is created\\n\\n15.  What is break, continue and pass in Python?\\n-break : terminate the loop and control flows next statement\\n-continue: terminates the current iteration. skips the rest of the code in the current iteration & control flows to next iteration\\n-Pass: generally used to fill up empty blocks \\n\\n16.What is docstring in Python?\\nDocumentation string or docstring is a multiline string used to document a specific code segment.\\nThe docstring should describe what the function or method does\\n\\n17.What is slicing in Python?\\n-\\tAs the name suggests, ‘slicing’ is taking parts of.\\n\\tSyntax for slicing is [start : stop : step]\\n\\tstart is the starting index from where to slice a list or tuple\\n\\tstop is the ending index or where to sop.\\n\\tstep is the number of steps to jump.\\n\\tDefault value for start is 0, stop is number of items, step is 1.\\n\\tSlicing can be done on strings, arrays, lists, and tuples.\\n\\tnumbers = [1, 2, 3, 4, 5, 6, 7, 8, 9, 10]\\n\\tprint(numbers[1 : : 2])  #output : [2, 4, 6, 8, 10]\\n\\t\\n18. pickling and unpickling?\\npickling = conversion of python obj to binary form\\nunpickling = binary form data to python object\\n\\n19:What is the difference between Python Arrays and lists?\\n-Array - same data type (homogeneous) - less memory\\n-List  - diffrent data type (heterogeneous) - more memory than array\\n\\nimport array\\na = array.array(\\'i\\', [1, 2, 3])\\nfor i in a:\\n    print(i, end=\\' \\')    #OUTPUT: 1 2 3\\na = array.array(\\'i\\', [1, 2, \\'string\\'])    #OUTPUT: TypeError: an integer is required (got type str)\\na = [1, 2, \\'string\\']\\nfor i in a:\\n   print(i, end=\\' \\')    #OUTPUT: 1 2 string\\n\\n'"
      ]
     },
     "execution_count": 1,
     "metadata": {},
     "output_type": "execute_result"
    }
   ],
   "source": [
    "\n",
    "\"\"\"\n",
    "1. python:\n",
    "- high-level, interpreted, general-purpose programming language\n",
    "2. interpreted : execute code line by line\n",
    "3. general-purpose: widely use, simple & easy to use\n",
    "\n",
    "4. Dynamically typed: (Data types are checked during execution)\n",
    "\tTypes:\n",
    "\t1.strongly-typed language, such as Python, \"1\" + 2 will result in a type error(no type conversion)\n",
    "\t2.weakly-typed language, such as Javascript, will simply output \"12\" as result.\n",
    "\t\n",
    "\tType-checking can be done at two stages:\n",
    "\t1.Static - Data types are check befor execution\n",
    "\t2.Dynamic - Data types are checked during execution\n",
    "\t\n",
    "5. What is PEP 8 and why is it important?\n",
    "- Python Enhancement Proposal \n",
    "- official design document providing information to the Python\n",
    "- style guidelines for Python Code\n",
    "\n",
    "6. What is Scope in Python?\n",
    "- local (fucntion level)\n",
    "- global (class level)\n",
    "- module-level (module level)\n",
    "- outermost (refers to all built-in names)\n",
    "Note: Local scope objects can be synced with global scope objects using keywords such as global\n",
    "\n",
    "7.What are lists and tuples? What is the key difference between the two?\n",
    "- both are sequence data types that can store a collection of objects\n",
    "- both can store diffrent data types\n",
    "- list: represented with square brackets ['as',1,2.01]\n",
    "- tuple: represented with parantheses ('as',1,2.01)\n",
    "- key difference is list is mutable (can be change) where as tuple is immutable(can't change)\n",
    "\n",
    "8.  common built-in data types\n",
    "-None Type: None - represent null\n",
    "-Numeric Type: int, float, complex, bool\n",
    "-Sequence Type: list, tuple, range, str\n",
    "-Mapping Type: dict \n",
    "-Set Type: set, fronzen set\n",
    "\n",
    "9. Pass ? - The pass keyword represents a null operation in Python\n",
    "\n",
    "9. Modules ? - Modules, in general, are simply Python files with a .py extension and can have a set of functions, classes, or variables defined and implemented. \n",
    "eg. import mymodel\n",
    "\n",
    "import requests   --- module\n",
    "response = requests.get(\"https://api.example.com/users\")\n",
    "data = response.json()\n",
    "\n",
    "10. Packages ? \n",
    "- nothing but folder contains multiple modules. \n",
    "- A package is simply a directory that contains one or more module files and special file called __init__.py.\n",
    "eg. from foo import bar\n",
    "\tfrom my_package.subpackage import module3\n",
    "\n",
    "from urllib.request import urlopen --- module\n",
    "response = urlopen(\"https://www.example.com\")\n",
    "html = response.read().decode()\n",
    "\n",
    "11. library? - collection of packages\n",
    "\n",
    "12.What are global, protected and private attributes in Python?\n",
    "-Global : it is public veriable \n",
    "-Protected: Defined with an underscore prefixed to their identifier eg. _sara. \n",
    "\t\t-They can still be accessed and modified from outside the class\n",
    "- Private: defined with double underscore prefixed to their identifier eg. __ansh\n",
    "\t\t-hey cannot be accessed or modified from the outside directly\n",
    "\t\t\n",
    "13. What is the use of self in Python?\n",
    "-Self is used to represent the instance of the class.\n",
    "-With is keyword you can access the attributes and methods of the class in python\n",
    "- it binds attribute with given arguments\n",
    "\n",
    "14.What is __init__?\n",
    "- contructor method\n",
    "- automatically called to allocate memory when oject/instance is created\n",
    "\n",
    "15.  What is break, continue and pass in Python?\n",
    "-break : terminate the loop and control flows next statement\n",
    "-continue: terminates the current iteration. skips the rest of the code in the current iteration & control flows to next iteration\n",
    "-Pass: generally used to fill up empty blocks \n",
    "\n",
    "16.What is docstring in Python?\n",
    "Documentation string or docstring is a multiline string used to document a specific code segment.\n",
    "The docstring should describe what the function or method does\n",
    "\n",
    "17.What is slicing in Python?\n",
    "-\tAs the name suggests, ‘slicing’ is taking parts of.\n",
    "\tSyntax for slicing is [start : stop : step]\n",
    "\tstart is the starting index from where to slice a list or tuple\n",
    "\tstop is the ending index or where to sop.\n",
    "\tstep is the number of steps to jump.\n",
    "\tDefault value for start is 0, stop is number of items, step is 1.\n",
    "\tSlicing can be done on strings, arrays, lists, and tuples.\n",
    "\tnumbers = [1, 2, 3, 4, 5, 6, 7, 8, 9, 10]\n",
    "\tprint(numbers[1 : : 2])  #output : [2, 4, 6, 8, 10]\n",
    "\t\n",
    "18. pickling and unpickling?\n",
    "pickling = conversion of python obj to binary form\n",
    "unpickling = binary form data to python object\n",
    "\n",
    "19:What is the difference between Python Arrays and lists?\n",
    "-Array - same data type (homogeneous) - less memory\n",
    "-List  - diffrent data type (heterogeneous) - more memory than array\n",
    "\n",
    "import array\n",
    "a = array.array('i', [1, 2, 3])\n",
    "for i in a:\n",
    "    print(i, end=' ')    #OUTPUT: 1 2 3\n",
    "a = array.array('i', [1, 2, 'string'])    #OUTPUT: TypeError: an integer is required (got type str)\n",
    "a = [1, 2, 'string']\n",
    "for i in a:\n",
    "   print(i, end=' ')    #OUTPUT: 1 2 string\n",
    "\n",
    "\"\"\"\n"
   ]
  },
  {
   "cell_type": "markdown",
   "metadata": {},
   "source": [
    "# Advanced Questions"
   ]
  },
  {
   "cell_type": "code",
   "execution_count": null,
   "metadata": {},
   "outputs": [],
   "source": [
    "\"\"\"\n",
    "1. How is memory managed in Python?\n",
    "- handle by Python Memory Manager.\n",
    "- The memory allocated by the manager is in form of a private heap space dedicated to python\n",
    "- All python objects are stored in this heap and being private.\n",
    "- Garbage collection to recycle the unused memory for private heap space.\n",
    "    \n",
    "2. What are Python namespaces? Why are they used?\n",
    "- It ensures that the object name in program are unique and can be used without conflict.\n",
    "- Python implements these namespaces as dictionaries with 'name as key' mapped to corresponding 'object as value'\n",
    "- This allows for multiple namespaces to use the same name and map it to a separate object.\n",
    "- Types: \n",
    "    1. Local Namespace: includes local names inside a function. the namespace is temporarily created for a function call and gets cleared when the function returns.\n",
    "    2. Global Namespace: ncludes names from various imported packages/ modules that are being used in the current project. This namespace is created when the package is imported in the script and lasts until the execution of the script.\n",
    "    3. Built-in Namespace: includes built-in functions of core Python and built-in names for various types of exceptions.\n",
    "- The lifecycle of a namespace depends upon the scope of objects they are mapped to. If the scope of an object ends, the lifecycle of that namespace comes to an end. Hence, it is not possible to access inner namespace objects from an outer namespace.\n",
    "- Built-In ->Global ->Enclosed ->Local\n",
    "\n",
    "\"\"\"\n"
   ]
  },
  {
   "cell_type": "code",
   "execution_count": 10,
   "metadata": {},
   "outputs": [
    {
     "name": "stdout",
     "output_type": "stream",
     "text": [
      "10\n",
      "20\n",
      "10\n",
      "---------------\n",
      "10\n",
      "20\n",
      "20\n"
     ]
    }
   ],
   "source": [
    "\"\"\"\n",
    "\n",
    "\n",
    "3.  What is Scope Resolution in Python?\n",
    "- Sometime object within the same scope have the same name but functions differently. in such cases scope resolution comes into play.\n",
    "eg. python modules namely 'math' and 'cmath' have loat of functions are common like, log10(), acos(), exp()\n",
    "To resolve this ambiguity, it is necessary to prifix them with there respective module, like math.exp() and cmath.exp()\n",
    "\n",
    "math.exp() = Using math.exp() with a real number\n",
    "cmath.exp() = Using math.exp() with a complex number & real number\n",
    "\n",
    "eg. 1\n",
    "\"\"\"\n",
    "temp = 10 # golbal-scope\n",
    "def fun():\n",
    "    temp = 20 # local-scope\n",
    "    print(temp)\n",
    "\n",
    "print(temp) # output => 10\n",
    "fun()      # output => 20\n",
    "print(temp) # output => 10\n",
    "\n",
    "\"\"\"\n",
    "This behavior can be overrideen using the \"global\" keyword inside the function as shown in the following ex.\n",
    "eg. 2\n",
    "\"\"\"\n",
    "print('---'*5)\n",
    "temp = 10 # golbal-scope\n",
    "def fun():\n",
    "    global temp \n",
    "    temp = 20 # local-scope\n",
    "    print(temp)\n",
    "\n",
    "print(temp) # output => 10\n",
    "fun()      # output => 20\n",
    "print(temp) # output => 20\n"
   ]
  },
  {
   "cell_type": "code",
   "execution_count": 1,
   "metadata": {},
   "outputs": [
    {
     "data": {
      "text/plain": [
       "['hello', 'wold']"
      ]
     },
     "execution_count": 1,
     "metadata": {},
     "output_type": "execute_result"
    }
   ],
   "source": [
    "\"\"\"\n",
    "4. What are decorators in Python?\n",
    "- it is function that add functionality to existing function without changing structure of function.\n",
    "- it takes argument as a function and return modified function result\n",
    "- represent like \"@decorator_name\"\n",
    "- are called in bottom-up fashion \n",
    "\"\"\"\n",
    "\n",
    "def lower_case(fun):\n",
    "    def wrapper():\n",
    "        f = fun()\n",
    "        f = f.lower()\n",
    "        return f\n",
    "    return wrapper\n",
    "\n",
    "def split_res(fun):\n",
    "    def wrapper():\n",
    "        f = fun()\n",
    "        f = f.split(\" \")\n",
    "        return f\n",
    "    return wrapper\n",
    "\n",
    "@split_res # 2nd run this\n",
    "@lower_case # 1st run this\n",
    "def fun():\n",
    "    return \"Hello Wold\"\n",
    "\n",
    "fun()\n"
   ]
  },
  {
   "cell_type": "code",
   "execution_count": 54,
   "metadata": {},
   "outputs": [],
   "source": [
    "def lower(fun):\n",
    "    def wrapper():\n",
    "        f = fun()\n",
    "        f = f.lower()\n",
    "        return f\n",
    "    return wrapper\n",
    "@lower\n",
    "def fun():\n",
    "    return \"Hello WORLD\""
   ]
  },
  {
   "cell_type": "code",
   "execution_count": 55,
   "metadata": {},
   "outputs": [
    {
     "data": {
      "text/plain": [
       "'hello world'"
      ]
     },
     "execution_count": 55,
     "metadata": {},
     "output_type": "execute_result"
    }
   ],
   "source": [
    "fun()"
   ]
  },
  {
   "cell_type": "code",
   "execution_count": 32,
   "metadata": {},
   "outputs": [
    {
     "name": "stdout",
     "output_type": "stream",
     "text": [
      "[1, 4, 9, 16]\n",
      "{1: 1, 2: 4, 3: 9, 4: 16}\n",
      "[4, 16]\n",
      "{2: 4, 4: 16}\n"
     ]
    },
    {
     "data": {
      "text/plain": [
       "[10, 20, 30, 40, 50, 60, 70, 80, 90]"
      ]
     },
     "execution_count": 32,
     "metadata": {},
     "output_type": "execute_result"
    }
   ],
   "source": [
    "\"\"\"\"\n",
    "5. What are Dict and List comprehensions?\n",
    "- it is nothing but performing some oprations(filter/alter) and generate new dict or list.\n",
    "\"\"\"\n",
    "\n",
    "# Performing mathematical operations on the entire list\n",
    "my_list = [1,2,3,4]\n",
    "squared_list = [i**2 for i in my_list] # list comprehension\n",
    "print(squared_list) # output => [1, 4, 9, 16]\n",
    "\n",
    "squared_dict = {i:i**2 for i in my_list}  # dict comprehension\n",
    "print(squared_dict) # output => {1: 1, 2: 4, 3: 9, 4: 16}\n",
    "\n",
    "# Performing conditional filtering operations on the entire list\n",
    "squared_con_list = [i**2 for i in my_list if i%2==0] \n",
    "print(squared_con_list) #  output => [4, 16]\n",
    "\n",
    "squared_con_dict = {i:i**2 for i in my_list if i%2==0}\n",
    "print(squared_con_dict) #  output => {2: 4, 4: 16}\n",
    "\n",
    "# Combining multiple lists into one\n",
    "a = [1,2,3]\n",
    "b = [5,6,8]\n",
    "# parallel iterators\n",
    "[(x+y) for (x,y) in zip(a,b)] # output => [6, 8, 11]\n",
    "# nested iterators\n",
    "[(x,y) for x in a for y in b] # output => [(1, 5), (1, 6), (1, 8), (2, 5), (2, 6), (2, 8), (3, 5), (3, 6), (3, 8)]\n",
    "\n",
    "\n",
    "# Flattening a multi-dimensional list\n",
    "my_list = [[10,20,30],[40,50,60],[70,80,90]]\n",
    "[x for temp in my_list for x in temp] # output => [10, 20, 30, 40, 50, 60, 70, 80, 90]\n"
   ]
  },
  {
   "cell_type": "code",
   "execution_count": 24,
   "metadata": {},
   "outputs": [],
   "source": [
    "a = [1,2,3]\n",
    "b = [5,6,8]"
   ]
  },
  {
   "cell_type": "code",
   "execution_count": 25,
   "metadata": {},
   "outputs": [],
   "source": [
    "d = dict(zip(a,b))"
   ]
  },
  {
   "cell_type": "code",
   "execution_count": 30,
   "metadata": {},
   "outputs": [],
   "source": [
    "result = {key: value for key, value in zip(a, b)}"
   ]
  },
  {
   "cell_type": "code",
   "execution_count": 31,
   "metadata": {},
   "outputs": [
    {
     "data": {
      "text/plain": [
       "{1: 5, 2: 6, 3: 8}"
      ]
     },
     "execution_count": 31,
     "metadata": {},
     "output_type": "execute_result"
    }
   ],
   "source": [
    "result"
   ]
  },
  {
   "cell_type": "code",
   "execution_count": 32,
   "metadata": {},
   "outputs": [],
   "source": [
    "d={}\n",
    "for i in range(len(a)):\n",
    "    d[a[i]] = b[i]\n",
    "    "
   ]
  },
  {
   "cell_type": "code",
   "execution_count": 34,
   "metadata": {},
   "outputs": [],
   "source": [
    "a= [1,1,1,2,2,2,3,4,5,5,5,5,66,7,77,77,77]"
   ]
  },
  {
   "cell_type": "code",
   "execution_count": 46,
   "metadata": {},
   "outputs": [],
   "source": [
    "d = {}\n",
    "for i in a:\n",
    "    if str(i) in d:\n",
    "        d[str(i)] +=1\n",
    "    else:\n",
    "        d[str(i)] = 1"
   ]
  },
  {
   "cell_type": "code",
   "execution_count": 47,
   "metadata": {},
   "outputs": [
    {
     "data": {
      "text/plain": [
       "{'1': 3, '2': 3, '3': 1, '4': 1, '5': 4, '66': 1, '7': 1, '77': 3}"
      ]
     },
     "execution_count": 47,
     "metadata": {},
     "output_type": "execute_result"
    }
   ],
   "source": [
    "d"
   ]
  },
  {
   "cell_type": "code",
   "execution_count": 45,
   "metadata": {},
   "outputs": [
    {
     "name": "stdout",
     "output_type": "stream",
     "text": [
      "10\n",
      "25\n"
     ]
    }
   ],
   "source": [
    "\"\"\"\n",
    "6. What is lambda in Python? Why is it used?\n",
    "- It is anonymous function \n",
    "- that can accept any number of arguments, but can only have a single expression\n",
    "\n",
    "\"\"\"\n",
    "# Assigning lambda functions to a variable:\n",
    "mul = lambda a,b:a*b\n",
    "print(mul(2,5)) # output => 10\n",
    "\n",
    "# Wrapping lambda functions inside another function:\n",
    "def myWrapper(n):\n",
    "    return lambda m:m*n\n",
    "f = myWrapper(5)\n",
    "print(f(5))"
   ]
  },
  {
   "cell_type": "code",
   "execution_count": 61,
   "metadata": {},
   "outputs": [
    {
     "name": "stdout",
     "output_type": "stream",
     "text": [
      "3128870036032 3128870036032\n",
      "[0, 2, 3, 4, 5] [0, 2, 3, 4, 5]\n"
     ]
    }
   ],
   "source": [
    "original_list = [1,2,3,4]\n",
    "copy_list = original_list\n",
    "\n",
    "print(id(original_list),id(copy_list)) # 1291545801216 1291545801216\n",
    "copy_list.append(5)\n",
    "copy_list[0] = 0\n",
    "print(original_list, copy_list)"
   ]
  },
  {
   "cell_type": "code",
   "execution_count": 69,
   "metadata": {},
   "outputs": [
    {
     "name": "stdout",
     "output_type": "stream",
     "text": [
      "[1, 2, [5, 4]]\n",
      "[1, 2, [3, 4]]\n"
     ]
    }
   ],
   "source": [
    "import copy\n",
    "\n",
    "# Shallow copy\n",
    "original_list = [1, 2, [3, 4]]\n",
    "shallow_copy = copy.copy(original_list)\n",
    "\n",
    "# Modifying the nested list in the shallow copy\n",
    "shallow_copy[2][0] = 5\n",
    "\n",
    "print(original_list)  # Output: [1, 2, [5, 4]]\n",
    "\n",
    "# Deep copy\n",
    "original_list = [1, 2, [3, 4]]\n",
    "deep_copy = copy.deepcopy(original_list)\n",
    "\n",
    "# Modifying the nested list in the deep copy\n",
    "deep_copy[2][0] = 5\n",
    "\n",
    "print(original_list)  # Output: [1, 2, [3, 4]]\n"
   ]
  },
  {
   "cell_type": "code",
   "execution_count": 68,
   "metadata": {
    "scrolled": true
   },
   "outputs": [
    {
     "name": "stdout",
     "output_type": "stream",
     "text": [
      "3128870138240\n",
      "3128870131264\n",
      "[0, 2, [1, 2, 0], 3, 9]\n",
      "[1, 2, [1, 2], 3]\n"
     ]
    }
   ],
   "source": [
    "from copy import copy, deepcopy\n",
    "\n",
    "list1 = [1,2,[1,2],3]\n",
    "# list2 = copy(list1)\n",
    "# print(id(list1),id(list2))\n",
    "# print(list1,list2)\n",
    "# 1291539052736 1291545802176\n",
    "# list2[0] = 8\n",
    "# list2[2].append(9)\n",
    "# print(list2) # [8, 2, [1, 2, 9], 3]\n",
    "# print(list1) # [1, 2, [1, 2, 9], 3]\n",
    "\n",
    "list3 = deepcopy(list1)\n",
    "list3.append(9)\n",
    "print(id(list3))\n",
    "print(id(list1))\n",
    "list3[0] = 0\n",
    "list3[2].append(0)\n",
    "print(list3) # [0, 2, [1, 2, 9, 0], 3, 9]\n",
    "print(list1) # [1, 2, [1, 2, 9], 3]\n"
   ]
  },
  {
   "cell_type": "code",
   "execution_count": 66,
   "metadata": {},
   "outputs": [
    {
     "name": "stdout",
     "output_type": "stream",
     "text": [
      "1291545428288 1291545428288\n",
      "[0, 2, 3, 4, 5] [0, 2, 3, 4, 5]\n",
      "1291517684544 1291540096512\n",
      "[8, 2, [1, 2, 9], 3]\n",
      "[1, 2, [1, 2, 9], 3]\n",
      "[0, 2, [1, 2, 9, 0], 3, 9]\n",
      "[1, 2, [1, 2, 9], 3]\n"
     ]
    }
   ],
   "source": [
    "\"\"\"\n",
    "7. How do you copy an object in Python?\n",
    "-Shallow Copy : changes are reflected to original obj\n",
    "-Deep Copy : changes are not reflected to original obj\n",
    "\n",
    "\"\"\"\n",
    "\n",
    "# In Python, the assignment statement (= operator) does not copy objects. Instead, it creates a binding between the existing object and the target variable name\n",
    "original_list = [1,2,3,4]\n",
    "copy_list = original_list\n",
    "\n",
    "print(id(original_list),id(copy_list)) # 1291545801216 1291545801216\n",
    "copy_list.append(5)\n",
    "copy_list[0] = 0\n",
    "print(original_list, copy_list) # [0, 2, 3, 4, 5] [0, 2, 3, 4, 5]\n",
    "\n",
    "\n",
    "\n",
    "from copy import copy, deepcopy\n",
    "\n",
    "list1 = [1,2,[1,2],3]\n",
    "list2 = copy(list1)\n",
    "print(id(list1),id(list2)) # 1291539052736 1291545802176\n",
    "list2[0] = 8\n",
    "list2[2].append(9)\n",
    "print(list2) # [8, 2, [1, 2, 9], 3]\n",
    "print(list1) # [1, 2, [1, 2, 9], 3]\n",
    "\n",
    "list3 = deepcopy(list1)\n",
    "list3.append(9)\n",
    "list3[0] = 0\n",
    "list3[2].append(0)\n",
    "print(list3) # [0, 2, [1, 2, 9, 0], 3, 9]\n",
    "print(list1) # [1, 2, [1, 2, 9], 3]\n",
    "\n"
   ]
  },
  {
   "cell_type": "code",
   "execution_count": null,
   "metadata": {},
   "outputs": [],
   "source": [
    "\"\"\"\"\n",
    "8. What is the difference between xrange and range in Python?\n",
    "- xrange() and range() are quite similar in terms of functionality. \n",
    "- They both generate a sequence of integers, \n",
    "- difference that range() returns a Python list, \n",
    "- xrange() returns an xrange object.\n",
    "Note: xrange has been deprecated as of Python 3.x. Now range does exactly the same as what xrange used to do in Python 2.x\n",
    "\"\"\""
   ]
  },
  {
   "cell_type": "code",
   "execution_count": null,
   "metadata": {},
   "outputs": [],
   "source": [
    "\"\"\"\"\n",
    "9.  What is pickling and unpickling?\n",
    "- serialization while data transforming in that case pickle module comes into play\n",
    "- Pickling:(serializes) object -> byte stream \n",
    "    - dumped as a file in the memory \n",
    "    - pickle.dump()\n",
    "- Unpickling:(deserializes) byte stream -> objects   \n",
    "    - loads the object to memory.\n",
    "    - pickle.load()\n",
    "\"\"\""
   ]
  },
  {
   "cell_type": "code",
   "execution_count": null,
   "metadata": {},
   "outputs": [],
   "source": [
    "\"\"\"\n",
    "10. What is the difference between .py and .pyc files?\n",
    "- .py file - souce code\n",
    "- .pyc file - byte code\n",
    "\"\"\""
   ]
  },
  {
   "cell_type": "code",
   "execution_count": 1,
   "metadata": {},
   "outputs": [
    {
     "name": "stdout",
     "output_type": "stream",
     "text": [
      "[1, 2, 3]\n",
      "[1, 2, 3, 4]\n"
     ]
    }
   ],
   "source": [
    "\"\"\"\n",
    "11. How are arguments passed by value or by reference in python?\n",
    "-Pass by value: \n",
    "    - Copy of the actual object is passed. \n",
    "    - Changing the value of the copy of the object will not change the value of the original object.\n",
    "-Pass by reference: \n",
    "    - Reference to the actual object is passed. \n",
    "    - Changing the value of the new object will change the value of the original object.\n",
    "In Python, arguments are passed by reference, i.e., reference to the actual object is passed.\n",
    "\"\"\"\n",
    "def appendNumber(arr):\n",
    "   arr.append(4)\n",
    "arr = [1, 2, 3]\n",
    "print(arr)  #Output: => [1, 2, 3]\n",
    "appendNumber(arr)\n",
    "print(arr)  #Output: => [1, 2, 3, 4]"
   ]
  },
  {
   "cell_type": "code",
   "execution_count": null,
   "metadata": {},
   "outputs": [],
   "source": [
    "\"\"\"\n",
    "12. Explain how to delete a file in Python?\n",
    "- Use command os.remove(file_name)\n",
    "eg.\n",
    "import os\n",
    "os.remove(\"ChangedFile.csv\")\n",
    "print(\"File Removed!\")\n",
    "\"\"\""
   ]
  },
  {
   "cell_type": "code",
   "execution_count": 11,
   "metadata": {},
   "outputs": [
    {
     "name": "stdout",
     "output_type": "stream",
     "text": [
      "['Hi', 'this', 'is', 'string']\n",
      "Hi this is string\n"
     ]
    }
   ],
   "source": [
    "\"\"\"\n",
    "13. Explain split() and join() functions in Python?\n",
    "- split() function - split a string based on delimiter\n",
    "- join() function - join a list based on delimiter to give a string\n",
    "\"\"\"\n",
    "string = 'Hi this is string'\n",
    "str_list = string.split(' ') # delimiter is ‘space’ character or ‘ ‘\n",
    "print(str_list) #output => ['Hi', 'this', 'is', 'string']\n",
    "\n",
    "str_join = ' '.join(str_list)\n",
    "print(str_join) #output => Hi this is string"
   ]
  },
  {
   "cell_type": "code",
   "execution_count": 70,
   "metadata": {},
   "outputs": [
    {
     "name": "stdout",
     "output_type": "stream",
     "text": [
      "15\n"
     ]
    }
   ],
   "source": [
    "\"\"\"\n",
    "14. What does *args and **kwargs mean?\n",
    "- *args:\n",
    "    - It is special syntax used in function defination to pass \"variable-length argumets\"\n",
    "    - “*” means variable length\n",
    "    - “args” is the name used by convention.\n",
    "\"\"\"\n",
    "def add(a,b,*args):\n",
    "    s = a+b\n",
    "    for num in args:\n",
    "        s +=num \n",
    "    return s\n",
    "\n",
    "r = add(1,2,3,4,5)\n",
    "print(r) # output => 15"
   ]
  },
  {
   "cell_type": "code",
   "execution_count": 74,
   "metadata": {},
   "outputs": [
    {
     "name": "stdout",
     "output_type": "stream",
     "text": [
      "name John\n",
      "age 25\n",
      "city London\n",
      "country UK\n"
     ]
    }
   ],
   "source": [
    "def my_function(**kwargs):\n",
    "    for key, value in kwargs.items():\n",
    "        print(key, value)\n",
    "\n",
    "my_function(name='John', age=25)  # Output: name John, age 25\n",
    "my_function(city='London', country='UK')  # Output: city London, country UK\n"
   ]
  },
  {
   "cell_type": "code",
   "execution_count": 75,
   "metadata": {},
   "outputs": [
    {
     "name": "stdout",
     "output_type": "stream",
     "text": [
      "1\n",
      "2\n",
      "name John\n",
      "age 25\n"
     ]
    }
   ],
   "source": [
    "def my_function(*args, **kwargs):\n",
    "    for arg in args:\n",
    "        print(arg)\n",
    "    for key, value in kwargs.items():\n",
    "        print(key, value)\n",
    "\n",
    "my_function(1, 2, name='John', age=25)\n",
    "# Output:\n",
    "# 1\n",
    "# 2\n",
    "# name John\n",
    "# age 25\n"
   ]
  },
  {
   "cell_type": "code",
   "execution_count": 73,
   "metadata": {},
   "outputs": [
    {
     "name": "stdout",
     "output_type": "stream",
     "text": [
      "arg1 : anil\n",
      "arg2 : sunil\n",
      "arg3 : sandy\n"
     ]
    }
   ],
   "source": [
    "\"\"\"\n",
    "- **kwargs:\n",
    "    - It is special syntax used in function defination to pass \"variable-length keyworded arguments\"\n",
    "    - Here, also, “kwargs” is used just by convention. You can use any other name.\n",
    "    - Keyworded argument means a variable that has a name when passed to a function.\n",
    "    - It is actually a dictionary of the variable names and its value.\n",
    "\n",
    "\"\"\"\n",
    "def allArgs(**kwargs):\n",
    "    for k,v in kwargs.items():\n",
    "        print(k+\" : \"+v)\n",
    "\n",
    "allArgs(arg1=\"anil\",arg2=\"sunil\",arg3=\"sandy\")\n",
    "#allArgs({\"arg1\":\"anil\",\"arg2\":\"sunil\",\"arg3\":\"sandy\"}) # cant pass like this\n",
    "# output :\n",
    "# arg1 : anil\n",
    "# arg2 : sunil\n",
    "# arg3 : sandy"
   ]
  },
  {
   "cell_type": "code",
   "execution_count": 22,
   "metadata": {},
   "outputs": [
    {
     "name": "stdout",
     "output_type": "stream",
     "text": [
      "6\n",
      "5\n"
     ]
    }
   ],
   "source": [
    "\"\"\"\n",
    "15. What are negative indexes and why are they used?\n",
    "- Negative indexes are the indexes from the end of the list or tuple or string.\n",
    "- Arr[-1] means the last element of array Arr[]\n",
    "\"\"\"\n",
    "arr = [1, 2, 3, 4, 5, 6]\n",
    "#get the last element\n",
    "print(arr[-1]) #output 6\n",
    "#get the second last element\n",
    "print(arr[-2]) #output 5"
   ]
  },
  {
   "cell_type": "markdown",
   "metadata": {},
   "source": [
    "# Python OOPS Interview Questions"
   ]
  },
  {
   "cell_type": "code",
   "execution_count": 33,
   "metadata": {},
   "outputs": [
    {
     "name": "stdout",
     "output_type": "stream",
     "text": [
      "anil\n"
     ]
    }
   ],
   "source": [
    "\"\"\"\n",
    "1.  How do you create a class in Python?\n",
    "- To create a class in python, we use the keyword “class” as shown in the example below:\n",
    "\"\"\"\n",
    "class Emp:\n",
    "    def __init__(self,name):\n",
    "        self.name = name\n",
    "    \n",
    "# instantiate or create an object\n",
    "emp1 = Emp('anil')\n",
    "# access the name attribute,\n",
    "print(emp1.name) # output => anil\n",
    "\n"
   ]
  },
  {
   "cell_type": "code",
   "execution_count": 36,
   "metadata": {},
   "outputs": [
    {
     "name": "stdout",
     "output_type": "stream",
     "text": [
      "anil\n",
      "My name is anil\n"
     ]
    }
   ],
   "source": [
    "\"\"\"\n",
    "To create methods inside the class, we include the methods under the scope of the class as shown below:\n",
    "\"\"\"\n",
    "class Emp:\n",
    "    def __init__(self,name):\n",
    "        self.name = name\n",
    "\n",
    "    def intro(self):\n",
    "        print(f'My name is {self.name}')\n",
    "    \n",
    "# instantiate or create an object\n",
    "emp1 = Emp('anil')\n",
    "\n",
    "# access the name attribute,\n",
    "print(emp1.name) # output => anil\n",
    "\n",
    "emp1.intro() # output => My name is anil"
   ]
  },
  {
   "cell_type": "code",
   "execution_count": null,
   "metadata": {},
   "outputs": [],
   "source": [
    "\"\"\"\n",
    "2. How does inheritance work in python? Explain it with an example.\n",
    "- Inheriance gives the power of accessing all the atributes and methods of another class.\n",
    "- it helps in code reusability & help developers to maintain code\n",
    "- child class access the parameters of parent/super class\n",
    "\n",
    "Types:\n",
    "1.Single Inheritance: \n",
    "    - Child class derives members of one parent class.\n",
    "2.Multi-level Inheritance: \n",
    "    - The members of the parent class, A, are inherited by child class which is then inherited by another child class, B.\n",
    "    - The features of the base class and the derived class are further inherited into the new derived class, C. Here, A is the grandfather class of class C.\n",
    "    eg A->B->C\n",
    "\n",
    "3.Multiple Inheritance: \n",
    "    - This is achieved when one child class derives members from more than one parent class.\n",
    "    eg A->C & B->C\n",
    "\n",
    "4.Hierarchical Inheritance: \n",
    "    - When a parent class is derived by more than one child class, it is called hierarchical inheritance.\n",
    "    eg. A->B and A->C\n",
    "\"\"\""
   ]
  },
  {
   "cell_type": "code",
   "execution_count": 39,
   "metadata": {},
   "outputs": [
    {
     "name": "stdout",
     "output_type": "stream",
     "text": [
      "This is child class function\n",
      "This is parent class function\n"
     ]
    }
   ],
   "source": [
    "# 1.Single Inheritance eg: \n",
    "class ParentClass:\n",
    "    def par_func(self):\n",
    "        print('This is parent class function')\n",
    "\n",
    "class ChildClass(ParentClass):\n",
    "    def child_func(self):\n",
    "        print('This is child class function')\n",
    "\n",
    "obj1 = ChildClass()\n",
    "obj1.child_func() # output => This is child class function\n",
    "obj1.par_func() # output =>  This is parent class function"
   ]
  },
  {
   "cell_type": "code",
   "execution_count": 21,
   "metadata": {},
   "outputs": [
    {
     "name": "stdout",
     "output_type": "stream",
     "text": [
      "Buddy\n",
      "Woof!\n"
     ]
    }
   ],
   "source": [
    "class Animal:\n",
    "    def __init__(self, name):\n",
    "        self.name = name\n",
    "\n",
    "    def speak(self):\n",
    "        print(\"Animal speaks.\")\n",
    "\n",
    "\n",
    "class Dog(Animal):\n",
    "    def __init__(self, name, breed):\n",
    "        super().__init__(name)\n",
    "        self.breed = breed\n",
    "\n",
    "    def speak(self):\n",
    "        print(\"Woof!\")\n",
    "\n",
    "\n",
    "# Creating an instance of the derived class\n",
    "# a = Animal('tommy')\n",
    "# print(a.name)\n",
    "# print(a.speak)\n",
    "my_dog = Dog(\"Buddy\", \"Labrador\")\n",
    "\n",
    "# Accessing attributes and methods from the base class\n",
    "print(my_dog.name)      # Output: Buddy\n",
    "my_dog.speak()          # Output: Woof!\n"
   ]
  },
  {
   "cell_type": "code",
   "execution_count": 20,
   "metadata": {},
   "outputs": [
    {
     "name": "stdout",
     "output_type": "stream",
     "text": [
      "tommy\n",
      "Animal speaks.\n"
     ]
    }
   ],
   "source": [
    "class Animal:\n",
    "    def __init__(self, name):\n",
    "        self.name = name\n",
    "\n",
    "    def speak(self):\n",
    "        return \"Animal speaks.\"\n",
    "\n",
    "obj = Animal('tommy')\n",
    "print(obj.name)\n",
    "print(obj.speak())"
   ]
  },
  {
   "cell_type": "code",
   "execution_count": 44,
   "metadata": {},
   "outputs": [
    {
     "name": "stdout",
     "output_type": "stream",
     "text": [
      "This is C class function\n",
      "This is B class function\n",
      "This is A class function\n"
     ]
    }
   ],
   "source": [
    "# 2. Multi-level Inheritance eg: \n",
    "class A:\n",
    "    def a_func(self):\n",
    "        print('This is A class function')\n",
    "\n",
    "class B(A):\n",
    "    def b_func(self):\n",
    "        print('This is B class function')\n",
    "    \n",
    "class C(B):\n",
    "    def c_func(self):\n",
    "        print('This is C class function')\n",
    "\n",
    "obj1 = C()\n",
    "obj1.c_func() # output => This is C class function\n",
    "obj1.b_func() # output =>  This is B class function\n",
    "obj1.a_func() # output =>  This is A class function"
   ]
  },
  {
   "cell_type": "code",
   "execution_count": 11,
   "metadata": {},
   "outputs": [
    {
     "name": "stdout",
     "output_type": "stream",
     "text": [
      "Buddy\n",
      "Animal speaks.\n",
      "Mammal runs.\n",
      "Dog barks.\n"
     ]
    }
   ],
   "source": [
    "class Animal:\n",
    "    def __init__(self, name):\n",
    "        self.name = name\n",
    "\n",
    "    def speak(self):\n",
    "        print(\"Animal speaks.\")\n",
    "\n",
    "\n",
    "class Mammal(Animal):\n",
    "    def run(self):\n",
    "        print(\"Mammal runs.\")\n",
    "\n",
    "\n",
    "class Dog(Mammal):\n",
    "    def bark(self):\n",
    "        print(\"Dog barks.\")\n",
    "\n",
    "\n",
    "# Creating an instance of the derived class\n",
    "my_dog = Dog(\"Buddy\")\n",
    "\n",
    "# Accessing attributes and methods from the base classes\n",
    "print(my_dog.name)    # Output: Buddy\n",
    "my_dog.speak()        # Output: Animal speaks.\n",
    "my_dog.run()          # Output: Mammal runs.\n",
    "my_dog.bark()         # Output: Dog barks.\n"
   ]
  },
  {
   "cell_type": "code",
   "execution_count": 50,
   "metadata": {},
   "outputs": [
    {
     "name": "stdout",
     "output_type": "stream",
     "text": [
      "This is C class function\n",
      "This is B class function\n",
      "This is A class function\n",
      "This is A class Info\n"
     ]
    }
   ],
   "source": [
    "# 3.Multiple Inheritance eg : \n",
    "\n",
    "class A:\n",
    "    def a_func(self):\n",
    "        print('This is A class function')\n",
    "    \n",
    "    def info(self):\n",
    "        print('This is A class Info')\n",
    "\n",
    "\n",
    "class B:\n",
    "    def b_func(self):\n",
    "        print('This is B class function')\n",
    "\n",
    "    def info(self):\n",
    "        print('This is B class Info')\n",
    "\n",
    "\n",
    "class C(A,B):\n",
    "    def c_func(self):\n",
    "        print('This is C class function')\n",
    "\n",
    "obj1 = C()\n",
    "obj1.c_func() # output = > This is C class function\n",
    "obj1.b_func() # output = > This is B class function\n",
    "obj1.a_func() # output = > This is C class function\n",
    "obj1.info() # output = > This is A class Info"
   ]
  },
  {
   "cell_type": "code",
   "execution_count": 22,
   "metadata": {},
   "outputs": [
    {
     "name": "stdout",
     "output_type": "stream",
     "text": [
      "Buddy\n",
      "Animal speaks.\n",
      "Mammal runs.\n",
      "Dog barks.\n"
     ]
    }
   ],
   "source": [
    "class Animal:\n",
    "    def __init__(self, name):\n",
    "        self.name = name\n",
    "\n",
    "    def speak(self):\n",
    "        print(\"Animal speaks.\")\n",
    "\n",
    "\n",
    "class Mammal:\n",
    "    def run(self):\n",
    "        print(\"Mammal runs.\")\n",
    "\n",
    "\n",
    "class Dog(Animal, Mammal):\n",
    "    def bark(self):\n",
    "        print(\"Dog barks.\")\n",
    "\n",
    "\n",
    "# Creating an instance of the derived class\n",
    "my_dog = Dog(\"Buddy\")\n",
    "\n",
    "# Accessing attributes and methods from the base classes\n",
    "print(my_dog.name)    # Output: Buddy\n",
    "my_dog.speak()        # Output: Animal speaks.\n",
    "my_dog.run()          # Output: Mammal runs.\n",
    "my_dog.bark()         # Output: Dog barks.\n"
   ]
  },
  {
   "cell_type": "code",
   "execution_count": 54,
   "metadata": {},
   "outputs": [
    {
     "name": "stdout",
     "output_type": "stream",
     "text": [
      "This is C class function\n",
      "This is A class function\n",
      "This is B class function\n",
      "This is A class function\n"
     ]
    }
   ],
   "source": [
    "# 4.Hierarchical Inheritance eg :\n",
    "\n",
    "class A:\n",
    "    def a_func(self):\n",
    "        print('This is A class function')\n",
    "\n",
    "class B(A):\n",
    "    def b_func(self):\n",
    "        print('This is B class function')\n",
    "    \n",
    "class C(A):\n",
    "    def c_func(self):\n",
    "        print('This is C class function')\n",
    "\n",
    "obj1 = C()\n",
    "obj1.c_func() # output => This is C class function\n",
    "obj1.a_func() # output =>  This is A class function\n",
    "\n",
    "obj2 = B()\n",
    "obj2.b_func() # output => This is B class function\n",
    "obj2.a_func() # output =>  This is A class function"
   ]
  },
  {
   "cell_type": "code",
   "execution_count": 23,
   "metadata": {},
   "outputs": [
    {
     "name": "stdout",
     "output_type": "stream",
     "text": [
      "Buddy\n",
      "Animal speaks.\n",
      "Dog barks.\n",
      "Whiskers\n",
      "Animal speaks.\n",
      "Cat meows.\n"
     ]
    }
   ],
   "source": [
    "class Animal:\n",
    "    def __init__(self, name):\n",
    "        self.name = name\n",
    "\n",
    "    def speak(self):\n",
    "        print(\"Animal speaks.\")\n",
    "\n",
    "\n",
    "class Dog(Animal):\n",
    "    def bark(self):\n",
    "        print(\"Dog barks.\")\n",
    "\n",
    "\n",
    "class Cat(Animal):\n",
    "    def meow(self):\n",
    "        print(\"Cat meows.\")\n",
    "\n",
    "\n",
    "# Creating instances of the derived classes\n",
    "my_dog = Dog(\"Buddy\")\n",
    "my_cat = Cat(\"Whiskers\")\n",
    "\n",
    "# Accessing attributes and methods from the base class and derived classes\n",
    "print(my_dog.name)    # Output: Buddy\n",
    "my_dog.speak()        # Output: Animal speaks.\n",
    "my_dog.bark()         # Output: Dog barks.\n",
    "\n",
    "print(my_cat.name)    # Output: Whiskers\n",
    "my_cat.speak()        # Output: Animal speaks.\n",
    "my_cat.meow()         # Output: Cat meows.\n"
   ]
  },
  {
   "cell_type": "code",
   "execution_count": 10,
   "metadata": {},
   "outputs": [
    {
     "name": "stdout",
     "output_type": "stream",
     "text": [
      "Parent Name is anil\n",
      "Name is anil\n"
     ]
    }
   ],
   "source": [
    "\"\"\"\n",
    "3. How do you access parent members in the child class?\n",
    "- By using Parent class name: You can use the name of the parent class to access the attributes as shown in the example below:\n",
    "\"\"\"\n",
    "class A:\n",
    "    def __init__(self):\n",
    "        self.name = \"laxman\"\n",
    "\n",
    "class B(A):\n",
    "    def __init__(self, child):\n",
    "        A.name = child\n",
    "        self.child= child\n",
    "\n",
    "    def display(self):\n",
    "        print(f'Parent Name is {A.name}')  # Access superclass A's name attribute\n",
    "        print(f'Name is {self.child}')\n",
    "\n",
    "\n",
    "obj1 = B('anil')\n",
    "obj1.display()\n"
   ]
  },
  {
   "cell_type": "code",
   "execution_count": 109,
   "metadata": {},
   "outputs": [
    {
     "name": "stdout",
     "output_type": "stream",
     "text": [
      "Parent Name is laxman\n",
      "Name is anil\n"
     ]
    }
   ],
   "source": [
    "\"\"\"\n",
    "-By using super(): The parent class members can be accessed in child class using the super keyword.\n",
    "\"\"\"\n",
    "class A:\n",
    "    def __init__(self):\n",
    "        self.name = \"laxman\"\n",
    "\n",
    "class B(A):\n",
    "    def __init__(self, child):\n",
    "        super().__init__()\n",
    "        self.child= child\n",
    "\n",
    "    def display(self):\n",
    "        print(f'Parent Name is {self.name}')  # Access superclass A's name attribute\n",
    "        print(f'Name is {self.child}')\n",
    "\n",
    "\n",
    "obj1 = B('anil')\n",
    "obj1.display()"
   ]
  },
  {
   "cell_type": "code",
   "execution_count": 3,
   "metadata": {},
   "outputs": [
    {
     "name": "stdout",
     "output_type": "stream",
     "text": [
      "10\n",
      "20\n",
      "30\n",
      "This is a public method.\n",
      "This is a protected method.\n",
      "This is a private method.\n"
     ]
    }
   ],
   "source": [
    "\"\"\"\n",
    "4. Are access specifiers used in python?\n",
    "- Yes, access specifiers are used in Python, \n",
    "- but they are implemented differently compared to some other object-oriented programming languages like C++ or Java.\n",
    "Types:\n",
    "1.Public: By default, all class members (attributes and methods) in Python are considered public and can be accessed from anywhere. There are no explicit access modifiers for public members.\n",
    "2.Protected: Conventionally, a single leading underscore (_) is used to indicate that a member should be treated as protected. \n",
    "3.Private: Conventionally, a double leading underscore (__) is used to indicate that a member should be treated as private.\n",
    "\"\"\"\n",
    "class MyClass:\n",
    "    def __init__(self):\n",
    "        self.public_var = 10\n",
    "        self._protected_var = 20\n",
    "        self.__private_var = 30\n",
    "\n",
    "    def public_method(self):\n",
    "        print(\"This is a public method.\")\n",
    "\n",
    "    def _protected_method(self):\n",
    "        print(\"This is a protected method.\")\n",
    "\n",
    "    def __private_method(self):\n",
    "        print(\"This is a private method.\")\n",
    "\n",
    "obj = MyClass()\n",
    "\n",
    "print(obj.public_var)       # Accessing public variable\n",
    "print(obj._protected_var)   # Accessing protected variable (convention-based)\n",
    "print(obj._MyClass__private_var)   # Accessing private variable using mangled name\n",
    "\n",
    "obj.public_method()         # Calling public method\n",
    "obj._protected_method()     # Calling protected method (convention-based)\n",
    "obj._MyClass__private_method()   # Calling private method using mangled name"
   ]
  },
  {
   "cell_type": "code",
   "execution_count": 9,
   "metadata": {},
   "outputs": [
    {
     "name": "stdout",
     "output_type": "stream",
     "text": [
      "public variable\n",
      "10\n",
      "protected var\n",
      "20\n",
      "private var\n",
      "30\n"
     ]
    }
   ],
   "source": [
    "class MyClass:\n",
    "    def __init__(self):\n",
    "        self.public_var = 10\n",
    "        self._protected_var = 20\n",
    "        self.__private_var = 30\n",
    "obj = MyClass()\n",
    "print(\"public variable\")\n",
    "print(obj.public_var)\n",
    "print(\"protected var\")\n",
    "print(obj._protected_var)\n",
    "print(\"private var\")\n",
    "print(obj._MyClass__private_var)"
   ]
  },
  {
   "cell_type": "code",
   "execution_count": 2,
   "metadata": {},
   "outputs": [
    {
     "name": "stdout",
     "output_type": "stream",
     "text": [
      "I am a local variable\n",
      "I am an outer variable\n",
      "I am a global variable\n",
      "I am a global variable\n"
     ]
    }
   ],
   "source": [
    "# Global scope\n",
    "global_var = \"I am a global variable\"\n",
    "\n",
    "def outer_function():\n",
    "    # Enclosing scope\n",
    "    outer_var = \"I am an outer variable\"\n",
    "\n",
    "    def inner_function():\n",
    "        # Local scope\n",
    "        local_var = \"I am a local variable\"\n",
    "        print(local_var)      # Accessible within the inner_function\n",
    "        print(outer_var)      # Accessible within the inner_function\n",
    "        print(global_var)     # Accessible within the inner_function\n",
    "\n",
    "    inner_function()\n",
    "\n",
    "outer_function()\n",
    "print(global_var)              # Accessible globally\n"
   ]
  },
  {
   "cell_type": "code",
   "execution_count": 1,
   "metadata": {},
   "outputs": [
    {
     "name": "stdout",
     "output_type": "stream",
     "text": [
      "1\n",
      "2\n",
      "3\n",
      "4\n",
      "5\n"
     ]
    }
   ],
   "source": [
    "# Iterator\n",
    "class MyIterator:\n",
    "    def __init__(self, data):\n",
    "        self.data = data\n",
    "        self.index = 0\n",
    "\n",
    "    def __iter__(self):\n",
    "        return self\n",
    "\n",
    "    def __next__(self):\n",
    "        if self.index >= len(self.data):\n",
    "            raise StopIteration\n",
    "        value = self.data[self.index]\n",
    "        self.index += 1\n",
    "        return value\n",
    "\n",
    "# Generator\n",
    "# def my_generator(data):\n",
    "#     for item in data:\n",
    "#         yield item\n",
    "\n",
    "# Using an iterator\n",
    "my_iterator = MyIterator([1, 2, 3, 4, 5])\n",
    "for value in my_iterator:\n",
    "    print(value)\n",
    "\n",
    "# Using a generator\n",
    "# my_generator = my_generator([1, 2, 3, 4, 5])\n",
    "# for value in my_generator:\n",
    "#     print(value)\n"
   ]
  },
  {
   "cell_type": "code",
   "execution_count": null,
   "metadata": {},
   "outputs": [],
   "source": []
  }
 ],
 "metadata": {
  "kernelspec": {
   "display_name": "Python 3 (ipykernel)",
   "language": "python",
   "name": "python3"
  },
  "language_info": {
   "codemirror_mode": {
    "name": "ipython",
    "version": 3
   },
   "file_extension": ".py",
   "mimetype": "text/x-python",
   "name": "python",
   "nbconvert_exporter": "python",
   "pygments_lexer": "ipython3",
   "version": "3.11.5"
  },
  "vscode": {
   "interpreter": {
    "hash": "c261aea317cc0286b3b3261fbba9abdec21eaa57589985bb7a274bf54d6cc0a7"
   }
  }
 },
 "nbformat": 4,
 "nbformat_minor": 2
}
